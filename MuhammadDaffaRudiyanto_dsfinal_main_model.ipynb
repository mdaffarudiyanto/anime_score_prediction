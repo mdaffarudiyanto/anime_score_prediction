{
  "cells": [
    {
      "cell_type": "markdown",
      "metadata": {
        "id": "boO9VrMNJQK2"
      },
      "source": [
        "<h1>Data Science Final Project (Main Model)</h1>\n",
        "<h3>Muhammad Daffa Rudiyanto 26002104783</h3>"
      ]
    },
    {
      "cell_type": "markdown",
      "metadata": {
        "id": "70cjVntAJQK4"
      },
      "source": [
        "<h3>Setup</h3>"
      ]
    },
    {
      "cell_type": "code",
      "execution_count": 1,
      "metadata": {
        "id": "dY_ini8TJQK4"
      },
      "outputs": [],
      "source": [
        "import os\n",
        "os.environ['CUDA_LAUNCH_BLOCKING'] = \"1\"\n",
        "import random\n",
        "import numpy as np\n",
        "import pandas as pd\n",
        "from sklearn.model_selection import train_test_split\n",
        "from sklearn.feature_extraction.text import TfidfVectorizer\n",
        "from sklearn.metrics import mean_squared_error, mean_absolute_error\n",
        "from sklearn.svm import SVR\n",
        "from scipy.sparse import hstack, csr_matrix\n",
        "import matplotlib.pyplot as plt\n",
        "import transformers\n",
        "import torch\n",
        "import torch.nn as nn\n",
        "import torch.optim as optim\n",
        "from torch import cuda\n",
        "from torch.utils.data import TensorDataset, Dataset, DataLoader\n",
        "from transformers import BertTokenizer, BertModel\n"
      ]
    },
    {
      "cell_type": "code",
      "execution_count": 2,
      "metadata": {
        "id": "wc5UTy-IJQK4"
      },
      "outputs": [],
      "source": [
        "SEED = 4\n",
        "random.seed(SEED)\n",
        "np.random.seed(SEED)\n",
        "\n",
        "def seed_torch(seed=0):\n",
        "    os.environ['PYTHONHASHSEED'] = str(seed)\n",
        "    torch.manual_seed(seed)\n",
        "    torch.cuda.manual_seed(seed)\n",
        "    torch.cuda.manual_seed_all(seed)# if you are using multi-GPU.\n",
        "    torch.backends.cudnn.benchmark = False\n",
        "    torch.backends.cudnn.deterministic = True\n",
        "\n",
        "\n",
        "device = 'cuda' if cuda.is_available() else 'cpu'\n",
        "device\n",
        "\n",
        "seed_torch(4)"
      ]
    },
    {
      "cell_type": "markdown",
      "metadata": {
        "id": "Xr_-ECBiJQK5"
      },
      "source": [
        "<h3>Data Preprocessing</h3>"
      ]
    },
    {
      "cell_type": "code",
      "execution_count": 3,
      "metadata": {
        "colab": {
          "base_uri": "https://localhost:8080/",
          "height": 310
        },
        "id": "T3josA6kJQK5",
        "outputId": "6ae906d9-7028-4d3d-a607-9bdc32cc1c60"
      },
      "outputs": [
        {
          "name": "stdout",
          "output_type": "stream",
          "text": [
            "25581\n"
          ]
        },
        {
          "data": {
            "text/html": [
              "<div>\n",
              "<style scoped>\n",
              "    .dataframe tbody tr th:only-of-type {\n",
              "        vertical-align: middle;\n",
              "    }\n",
              "\n",
              "    .dataframe tbody tr th {\n",
              "        vertical-align: top;\n",
              "    }\n",
              "\n",
              "    .dataframe thead th {\n",
              "        text-align: right;\n",
              "    }\n",
              "</style>\n",
              "<table border=\"1\" class=\"dataframe\">\n",
              "  <thead>\n",
              "    <tr style=\"text-align: right;\">\n",
              "      <th></th>\n",
              "      <th>Title</th>\n",
              "      <th>Synopsis</th>\n",
              "      <th>Status</th>\n",
              "      <th>Genres</th>\n",
              "      <th>Type</th>\n",
              "      <th>Studios</th>\n",
              "      <th>Members</th>\n",
              "      <th>Reviewer</th>\n",
              "      <th>Ratings</th>\n",
              "      <th>Score</th>\n",
              "    </tr>\n",
              "  </thead>\n",
              "  <tbody>\n",
              "    <tr>\n",
              "      <th>0</th>\n",
              "      <td>A A B C</td>\n",
              "      <td>Music video for the song A A B C by Mieko Hiro...</td>\n",
              "      <td>Finished Airing</td>\n",
              "      <td>Music, Kids</td>\n",
              "      <td>Music</td>\n",
              "      <td>NaN</td>\n",
              "      <td>73</td>\n",
              "      <td>NaN</td>\n",
              "      <td>G - All Ages</td>\n",
              "      <td>NaN</td>\n",
              "    </tr>\n",
              "    <tr>\n",
              "      <th>1</th>\n",
              "      <td>A Ben Mao</td>\n",
              "      <td>NaN</td>\n",
              "      <td>Finished Airing</td>\n",
              "      <td>Kids</td>\n",
              "      <td>TV</td>\n",
              "      <td>NaN</td>\n",
              "      <td>153</td>\n",
              "      <td>NaN</td>\n",
              "      <td>PG - Children</td>\n",
              "      <td>NaN</td>\n",
              "    </tr>\n",
              "    <tr>\n",
              "      <th>2</th>\n",
              "      <td>A Brightening Life</td>\n",
              "      <td>Above ground, there are many people, coming an...</td>\n",
              "      <td>Finished Airing</td>\n",
              "      <td>Drama, Music</td>\n",
              "      <td>Movie</td>\n",
              "      <td>NaN</td>\n",
              "      <td>510</td>\n",
              "      <td>234.0</td>\n",
              "      <td>PG - Children</td>\n",
              "      <td>5.50</td>\n",
              "    </tr>\n",
              "    <tr>\n",
              "      <th>3</th>\n",
              "      <td>A Cappella Samurai: Harmony-tai wa Edo wo Sukuu</td>\n",
              "      <td>NaN</td>\n",
              "      <td>Currently Airing</td>\n",
              "      <td>Comedy, Historical, Music</td>\n",
              "      <td>ONA</td>\n",
              "      <td>NaN</td>\n",
              "      <td>99</td>\n",
              "      <td>NaN</td>\n",
              "      <td>PG-13 - Teens 13 or older</td>\n",
              "      <td>NaN</td>\n",
              "    </tr>\n",
              "    <tr>\n",
              "      <th>4</th>\n",
              "      <td>A Christmas Song</td>\n",
              "      <td>Music video for A Christmas Song by Monkey Maj...</td>\n",
              "      <td>Finished Airing</td>\n",
              "      <td>Music</td>\n",
              "      <td>Music</td>\n",
              "      <td>NaN</td>\n",
              "      <td>519</td>\n",
              "      <td>273.0</td>\n",
              "      <td>G - All Ages</td>\n",
              "      <td>5.55</td>\n",
              "    </tr>\n",
              "  </tbody>\n",
              "</table>\n",
              "</div>"
            ],
            "text/plain": [
              "                                             Title  \\\n",
              "0                                          A A B C   \n",
              "1                                        A Ben Mao   \n",
              "2                               A Brightening Life   \n",
              "3  A Cappella Samurai: Harmony-tai wa Edo wo Sukuu   \n",
              "4                                 A Christmas Song   \n",
              "\n",
              "                                            Synopsis            Status  \\\n",
              "0  Music video for the song A A B C by Mieko Hiro...   Finished Airing   \n",
              "1                                                NaN   Finished Airing   \n",
              "2  Above ground, there are many people, coming an...   Finished Airing   \n",
              "3                                                NaN  Currently Airing   \n",
              "4  Music video for A Christmas Song by Monkey Maj...   Finished Airing   \n",
              "\n",
              "                      Genres   Type Studios  Members  Reviewer  \\\n",
              "0                Music, Kids  Music     NaN       73       NaN   \n",
              "1                       Kids     TV     NaN      153       NaN   \n",
              "2               Drama, Music  Movie     NaN      510     234.0   \n",
              "3  Comedy, Historical, Music    ONA     NaN       99       NaN   \n",
              "4                      Music  Music     NaN      519     273.0   \n",
              "\n",
              "                     Ratings  Score  \n",
              "0               G - All Ages    NaN  \n",
              "1              PG - Children    NaN  \n",
              "2              PG - Children   5.50  \n",
              "3  PG-13 - Teens 13 or older    NaN  \n",
              "4               G - All Ages   5.55  "
            ]
          },
          "execution_count": 3,
          "metadata": {},
          "output_type": "execute_result"
        }
      ],
      "source": [
        "df = pd.read_csv(r\"MuhammadDaffaRudiyanto_animedataset.csv\")\n",
        "print(len(df))\n",
        "df.head()"
      ]
    },
    {
      "cell_type": "code",
      "execution_count": 4,
      "metadata": {
        "colab": {
          "base_uri": "https://localhost:8080/"
        },
        "id": "zYqnMZPFJQK5",
        "outputId": "11c42b91-04be-4e1f-9a14-aeddede6cfb5"
      },
      "outputs": [
        {
          "name": "stdout",
          "output_type": "stream",
          "text": [
            "Title           0\n",
            "Synopsis     4677\n",
            "Status          0\n",
            "Genres        128\n",
            "Type            0\n",
            "Studios     10693\n",
            "Members         0\n",
            "Reviewer     9186\n",
            "Ratings       542\n",
            "Score        9186\n",
            "dtype: int64\n",
            "Numbers of rows with at least one missing data: 13341\n"
          ]
        }
      ],
      "source": [
        "#Check number of missing value\n",
        "missing_values = df.isna().sum()\n",
        "rows_with_missing_value = df.isna().any(axis=1).sum()\n",
        "\n",
        "print(missing_values)\n",
        "print(\"Numbers of rows with at least one missing data:\", rows_with_missing_value)"
      ]
    },
    {
      "cell_type": "code",
      "execution_count": 5,
      "metadata": {
        "id": "B2ApMqduJQK5"
      },
      "outputs": [],
      "source": [
        "# rows_with_empty_values = df[df[['Studios', 'Score']].isna().all(axis=1)].shape[0]\n",
        "\n",
        "# print(\"Number of data points with empty values in all specified columns:\", rows_with_empty_values)"
      ]
    },
    {
      "cell_type": "code",
      "execution_count": 6,
      "metadata": {
        "colab": {
          "base_uri": "https://localhost:8080/",
          "height": 472
        },
        "id": "SNfDrEE-JQK5",
        "outputId": "99cf85f7-cf40-486f-8f3d-5d8c1ecfa01f"
      },
      "outputs": [
        {
          "data": {
            "image/png": "[encoded data removed]",
            "text/plain": [
              "<Figure size 640x480 with 1 Axes>"
            ]
          },
          "metadata": {},
          "output_type": "display_data"
        }
      ],
      "source": [
        "plt.hist(df['Score'], bins=10, edgecolor='black')\n",
        "plt.title('Histogram of Anime Scores')\n",
        "plt.xlabel('Score')\n",
        "plt.ylabel('Frequency')\n",
        "plt.ylim(0, 5000)\n",
        "plt.show()"
      ]
    },
    {
      "cell_type": "code",
      "execution_count": 7,
      "metadata": {
        "colab": {
          "base_uri": "https://localhost:8080/"
        },
        "id": "sXxE_muPJQK6",
        "outputId": "6504a70d-fd92-4140-b1c2-ef67c533fc89"
      },
      "outputs": [
        {
          "name": "stdout",
          "output_type": "stream",
          "text": [
            "8910\n"
          ]
        }
      ],
      "source": [
        "# Dropping rows with NaN values in specific columns\n",
        "df = df.dropna(subset=['Score', 'Synopsis', 'Genres', 'Ratings', 'Studios'])\n",
        "\n",
        "# Filtering out specific categories and values\n",
        "df = df[~df['Type'].isin(['Music', 'Special', 'Unknown']) &\n",
        "        (df['Ratings'] != \"Rx - Hentai\") &\n",
        "        ~df['Status'].isin([\"Currently Airing\", \"Not yet aired\"])]\n",
        "\n",
        "df['Members'] = df['Members'].astype(float)\n",
        "\n",
        "# df = df.drop(['Title', 'Status'], axis=1)\n",
        "bins = [0, 5, 7, float('inf')]  # Start bins from 0\n",
        "labels = [0, 1, 2]  # Labels for the bins\n",
        "df['bins_score'] = pd.cut(df['Score'], bins=bins, labels=labels, right=False)\n",
        "df['bins_score'] = df['bins_score'].astype(float)\n",
        "\n",
        "print(len(df))"
      ]
    },
    {
      "cell_type": "code",
      "execution_count": 8,
      "metadata": {
        "colab": {
          "base_uri": "https://localhost:8080/"
        },
        "id": "3IXZCAijJQK6",
        "outputId": "d6691800-c604-43d1-aaf9-534169dfc602"
      },
      "outputs": [
        {
          "name": "stdout",
          "output_type": "stream",
          "text": [
            "Title         0\n",
            "Synopsis      0\n",
            "Status        0\n",
            "Genres        0\n",
            "Type          0\n",
            "Studios       0\n",
            "Members       0\n",
            "Reviewer      0\n",
            "Ratings       0\n",
            "Score         0\n",
            "bins_score    0\n",
            "dtype: int64\n"
          ]
        }
      ],
      "source": [
        "missing_values = df.isna().sum()\n",
        "print(missing_values)"
      ]
    },
    {
      "cell_type": "code",
      "execution_count": 9,
      "metadata": {
        "colab": {
          "base_uri": "https://localhost:8080/",
          "height": 472
        },
        "id": "i03gCvI2JQK6",
        "outputId": "74fece01-5872-4c35-814d-3d2db7d0e031"
      },
      "outputs": [
        {
          "data": {
            "image/png": "[encoded data removed]",
            "text/plain": [
              "<Figure size 640x480 with 1 Axes>"
            ]
          },
          "metadata": {},
          "output_type": "display_data"
        }
      ],
      "source": [
        "plt.hist(df['Score'], bins=10, edgecolor='black')\n",
        "plt.title('Histogram of Anime Scores')\n",
        "plt.xlabel('Score')\n",
        "plt.ylabel('Frequency')\n",
        "plt.ylim(0, 5000)\n",
        "plt.show()"
      ]
    },
    {
      "cell_type": "code",
      "execution_count": 10,
      "metadata": {
        "id": "rRRhXlqz_m_Q"
      },
      "outputs": [],
      "source": [
        "df = df.reset_index(drop=True)"
      ]
    },
    {
      "cell_type": "code",
      "execution_count": 11,
      "metadata": {
        "colab": {
          "base_uri": "https://localhost:8080/"
        },
        "id": "6rmwhyepiA_8",
        "outputId": "bd2a9cb1-9869-4c55-d86f-03619459378a"
      },
      "outputs": [
        {
          "data": {
            "text/plain": [
              "bins_score\n",
              "1.0    5095\n",
              "2.0    3579\n",
              "0.0     236\n",
              "Name: count, dtype: int64"
            ]
          },
          "execution_count": 11,
          "metadata": {},
          "output_type": "execute_result"
        }
      ],
      "source": [
        "df['bins_score'].value_counts()"
      ]
    },
    {
      "cell_type": "code",
      "execution_count": 12,
      "metadata": {
        "colab": {
          "base_uri": "https://localhost:8080/",
          "height": 379
        },
        "id": "SwEWPFGYJQK6",
        "outputId": "1f282d83-7460-44ce-9267-a601e47afafe"
      },
      "outputs": [
        {
          "data": {
            "text/html": [
              "<div>\n",
              "<style scoped>\n",
              "    .dataframe tbody tr th:only-of-type {\n",
              "        vertical-align: middle;\n",
              "    }\n",
              "\n",
              "    .dataframe tbody tr th {\n",
              "        vertical-align: top;\n",
              "    }\n",
              "\n",
              "    .dataframe thead th {\n",
              "        text-align: right;\n",
              "    }\n",
              "</style>\n",
              "<table border=\"1\" class=\"dataframe\">\n",
              "  <thead>\n",
              "    <tr style=\"text-align: right;\">\n",
              "      <th></th>\n",
              "      <th>Title</th>\n",
              "      <th>Synopsis</th>\n",
              "      <th>Status</th>\n",
              "      <th>Genres</th>\n",
              "      <th>Type</th>\n",
              "      <th>Studios</th>\n",
              "      <th>Members</th>\n",
              "      <th>Reviewer</th>\n",
              "      <th>Ratings</th>\n",
              "      <th>Score</th>\n",
              "      <th>bins_score</th>\n",
              "    </tr>\n",
              "  </thead>\n",
              "  <tbody>\n",
              "    <tr>\n",
              "      <th>0</th>\n",
              "      <td>Kiznaiver</td>\n",
              "      <td>Katsuhira Agata is a quiet and reserved teenag...</td>\n",
              "      <td>Finished Airing</td>\n",
              "      <td>Drama, Romance, Sci-Fi</td>\n",
              "      <td>TV</td>\n",
              "      <td>Trigger</td>\n",
              "      <td>730875.0</td>\n",
              "      <td>353836.0</td>\n",
              "      <td>PG-13 - Teens 13 or older</td>\n",
              "      <td>7.37</td>\n",
              "      <td>2.0</td>\n",
              "    </tr>\n",
              "    <tr>\n",
              "      <th>1</th>\n",
              "      <td>Haikyuu!! Tokushuu! Haru-kou Volley ni Kaketa ...</td>\n",
              "      <td>The OVA episode revisits the primary matches f...</td>\n",
              "      <td>Finished Airing</td>\n",
              "      <td>Sports, School, Team Sports, Shounen</td>\n",
              "      <td>OVA</td>\n",
              "      <td>Production I.G</td>\n",
              "      <td>37726.0</td>\n",
              "      <td>11717.0</td>\n",
              "      <td>PG-13 - Teens 13 or older</td>\n",
              "      <td>7.52</td>\n",
              "      <td>2.0</td>\n",
              "    </tr>\n",
              "    <tr>\n",
              "      <th>2</th>\n",
              "      <td>Wagamama High Spec</td>\n",
              "      <td>The adorable girls of Ousui Academy's student ...</td>\n",
              "      <td>Finished Airing</td>\n",
              "      <td>Comedy, School</td>\n",
              "      <td>TV</td>\n",
              "      <td>AXsiZ</td>\n",
              "      <td>33275.0</td>\n",
              "      <td>13785.0</td>\n",
              "      <td>PG-13 - Teens 13 or older</td>\n",
              "      <td>5.38</td>\n",
              "      <td>1.0</td>\n",
              "    </tr>\n",
              "    <tr>\n",
              "      <th>3</th>\n",
              "      <td>M3: Sono Kuroki Hagane</td>\n",
              "      <td>In a dark void known as the Lightless Realm, a...</td>\n",
              "      <td>Finished Airing</td>\n",
              "      <td>Action, Drama, Mystery, Sci-Fi, Mecha, Psychol...</td>\n",
              "      <td>TV</td>\n",
              "      <td>Satelight, C2C</td>\n",
              "      <td>56435.0</td>\n",
              "      <td>18694.0</td>\n",
              "      <td>R - 17+ (violence &amp; profanity)</td>\n",
              "      <td>6.57</td>\n",
              "      <td>1.0</td>\n",
              "    </tr>\n",
              "    <tr>\n",
              "      <th>4</th>\n",
              "      <td>Casshern: Robot Hunter</td>\n",
              "      <td>In the near future, robot technology has advan...</td>\n",
              "      <td>Finished Airing</td>\n",
              "      <td>Adventure, Sci-Fi, Mecha</td>\n",
              "      <td>OVA</td>\n",
              "      <td>Tatsunoko Production</td>\n",
              "      <td>8766.0</td>\n",
              "      <td>3376.0</td>\n",
              "      <td>PG-13 - Teens 13 or older</td>\n",
              "      <td>6.31</td>\n",
              "      <td>1.0</td>\n",
              "    </tr>\n",
              "  </tbody>\n",
              "</table>\n",
              "</div>"
            ],
            "text/plain": [
              "                                               Title  \\\n",
              "0                                          Kiznaiver   \n",
              "1  Haikyuu!! Tokushuu! Haru-kou Volley ni Kaketa ...   \n",
              "2                                 Wagamama High Spec   \n",
              "3                             M3: Sono Kuroki Hagane   \n",
              "4                             Casshern: Robot Hunter   \n",
              "\n",
              "                                            Synopsis           Status  \\\n",
              "0  Katsuhira Agata is a quiet and reserved teenag...  Finished Airing   \n",
              "1  The OVA episode revisits the primary matches f...  Finished Airing   \n",
              "2  The adorable girls of Ousui Academy's student ...  Finished Airing   \n",
              "3  In a dark void known as the Lightless Realm, a...  Finished Airing   \n",
              "4  In the near future, robot technology has advan...  Finished Airing   \n",
              "\n",
              "                                              Genres Type  \\\n",
              "0                             Drama, Romance, Sci-Fi   TV   \n",
              "1               Sports, School, Team Sports, Shounen  OVA   \n",
              "2                                     Comedy, School   TV   \n",
              "3  Action, Drama, Mystery, Sci-Fi, Mecha, Psychol...   TV   \n",
              "4                           Adventure, Sci-Fi, Mecha  OVA   \n",
              "\n",
              "                Studios   Members  Reviewer                         Ratings  \\\n",
              "0               Trigger  730875.0  353836.0       PG-13 - Teens 13 or older   \n",
              "1        Production I.G   37726.0   11717.0       PG-13 - Teens 13 or older   \n",
              "2                 AXsiZ   33275.0   13785.0       PG-13 - Teens 13 or older   \n",
              "3        Satelight, C2C   56435.0   18694.0  R - 17+ (violence & profanity)   \n",
              "4  Tatsunoko Production    8766.0    3376.0       PG-13 - Teens 13 or older   \n",
              "\n",
              "   Score  bins_score  \n",
              "0   7.37         2.0  \n",
              "1   7.52         2.0  \n",
              "2   5.38         1.0  \n",
              "3   6.57         1.0  \n",
              "4   6.31         1.0  "
            ]
          },
          "execution_count": 12,
          "metadata": {},
          "output_type": "execute_result"
        }
      ],
      "source": [
        "df = df.sample(frac=1, random_state=SEED)\n",
        "df = df.reset_index(drop=True)\n",
        "df.head()"
      ]
    },
    {
      "cell_type": "markdown",
      "metadata": {
        "id": "Ruq1PM10JQK7"
      },
      "source": [
        "<h3>Machine Learning</h3>"
      ]
    },
    {
      "cell_type": "code",
      "execution_count": 13,
      "metadata": {
        "id": "E9aPjbThJQK7"
      },
      "outputs": [],
      "source": [
        "# Initialize TfidfVectorizer\n",
        "vectorizer = TfidfVectorizer(lowercase=True)\n",
        "\n",
        "# Transform Synopsis into a sparse matriax\n",
        "synopsis_list = vectorizer.fit_transform(df['Synopsis'])\n",
        "\n",
        "# Process Genres, Studios, Type, and Ratings\n",
        "# Convert them to sparse matrices after getting dummies\n",
        "genres_list = csr_matrix(df['Genres'].str.get_dummies(sep=', '))\n",
        "studios_list = csr_matrix(df['Studios'].str.get_dummies(sep=', '))\n",
        "type_encoded = csr_matrix(pd.get_dummies(df['Type'], prefix='Type')).astype('float32')\n",
        "ratings_encoded = csr_matrix(pd.get_dummies(df['Ratings'], prefix='Ratings')).astype('float32')\n",
        "\n",
        "# Combine everything into a single sparse matrix\n",
        "X = hstack([synopsis_list, genres_list, studios_list, type_encoded, ratings_encoded])\n",
        "\n",
        "# Target variable\n",
        "y = df['Score']"
      ]
    },
    {
      "cell_type": "code",
      "execution_count": 14,
      "metadata": {
        "id": "dktq5dRUJQK7"
      },
      "outputs": [],
      "source": [
        "X_train, X_test, y_train, y_test = train_test_split(X, y, train_size=0.8, random_state=SEED, stratify = df['bins_score'])\n",
        "# X_train, X_test, y_train, y_test = train_test_split(X, y, train_size=0.8, random_state=SEED)"
      ]
    },
    {
      "cell_type": "code",
      "execution_count": 15,
      "metadata": {
        "colab": {
          "base_uri": "https://localhost:8080/"
        },
        "id": "t4G_Ip26JQK7",
        "outputId": "5ba07292-1dbc-434b-f159-0b9d9213dd2e"
      },
      "outputs": [
        {
          "name": "stdout",
          "output_type": "stream",
          "text": [
            "[LibSVM]"
          ]
        }
      ],
      "source": [
        "ml_model = SVR(kernel='rbf', verbose=True)\n",
        "ml_model.fit(X_train, y_train)\n",
        "\n",
        "# Predictions\n",
        "predictions = ml_model.predict(X_test)"
      ]
    },
    {
      "cell_type": "code",
      "execution_count": 16,
      "metadata": {
        "colab": {
          "base_uri": "https://localhost:8080/"
        },
        "id": "nDhgQ2wNJQK7",
        "outputId": "1ebe9bb2-ccd8-47a1-dce9-13276cbdac1d"
      },
      "outputs": [
        {
          "name": "stdout",
          "output_type": "stream",
          "text": [
            "Mean Squared Error: 0.309\n",
            "Root Mean Squared Error: 0.556\n",
            "Mean Absolute Error: 0.418\n"
          ]
        }
      ],
      "source": [
        "# Mean Squared Error\n",
        "mse = mean_squared_error(y_test, predictions)\n",
        "print(\"Mean Squared Error: %.3f\" % mse)\n",
        "\n",
        "# Root Mean Squared Error\n",
        "rmse = np.sqrt(mse)\n",
        "print(\"Root Mean Squared Error: %.3f\" % rmse)\n",
        "\n",
        "mae = mean_absolute_error(y_test, predictions)\n",
        "print(\"Mean Absolute Error: %.3f\" % mae)\n"
      ]
    },
    {
      "cell_type": "markdown",
      "metadata": {
        "id": "gktqVxCVJQK7"
      },
      "source": [
        "<h3>Deep Learning Part 1: Fine-tuning BERT for Synopsis</h3>"
      ]
    },
    {
      "cell_type": "code",
      "execution_count": 17,
      "metadata": {
        "cellView": "form",
        "id": "4g1nT_E2JQK7"
      },
      "outputs": [],
      "source": [
        "# @title\n",
        "# # MAX_LEN = 200\n",
        "# MAX_LEN = 512\n",
        "# TRAIN_BATCH_SIZE = 8\n",
        "# VALID_BATCH_SIZE = 8\n",
        "# EPOCHS = 10\n",
        "# LEARNING_RATE = 1e-05\n",
        "# tokenizer = BertTokenizer.from_pretrained('bert-base-uncased',  do_lower_case=True)"
      ]
    },
    {
      "cell_type": "code",
      "execution_count": 18,
      "metadata": {
        "cellView": "form",
        "id": "2DPkNgWwJQK8"
      },
      "outputs": [],
      "source": [
        "# @title\n",
        "# class CustomDataset(Dataset):\n",
        "\n",
        "#     def __init__(self, dataframe, tokenizer, max_len):\n",
        "#         self.tokenizer = tokenizer\n",
        "#         self.data = dataframe\n",
        "#         self.Synopsis = dataframe.Synopsis\n",
        "#         self.targets = self.data.Score\n",
        "#         self.max_len = max_len\n",
        "\n",
        "#     def __len__(self):\n",
        "#         return len(self.Synopsis)\n",
        "\n",
        "#     def __getitem__(self, index):\n",
        "#         Synopsis = str(self.Synopsis[index])\n",
        "#         Synopsis = \" \".join(Synopsis.split())\n",
        "\n",
        "#         inputs = self.tokenizer.encode_plus(\n",
        "#             Synopsis,\n",
        "#             None,\n",
        "#             add_special_tokens=True,\n",
        "#             max_length=self.max_len,\n",
        "#             pad_to_max_length=True,\n",
        "#             return_token_type_ids=True\n",
        "#         )\n",
        "#         ids = inputs['input_ids']\n",
        "#         mask = inputs['attention_mask']\n",
        "#         token_type_ids = inputs[\"token_type_ids\"]\n",
        "\n",
        "\n",
        "#         return {\n",
        "#             'ids': torch.tensor(ids, dtype=torch.long),\n",
        "#             'mask': torch.tensor(mask, dtype=torch.long),\n",
        "#             'token_type_ids': torch.tensor(token_type_ids, dtype=torch.long),\n",
        "#             'targets': torch.tensor(self.targets[index], dtype=torch.float)\n",
        "#         }"
      ]
    },
    {
      "cell_type": "code",
      "execution_count": 19,
      "metadata": {
        "cellView": "form",
        "id": "r-RV8aSDJQK8"
      },
      "outputs": [],
      "source": [
        "# @title\n",
        "# new_df = df.loc[:, ['Synopsis', 'Score']]\n",
        "# new_df = new_df.reset_index(drop=True)"
      ]
    },
    {
      "cell_type": "code",
      "execution_count": 20,
      "metadata": {
        "cellView": "form",
        "id": "_z9PaDYNJQK8"
      },
      "outputs": [],
      "source": [
        "# @title\n",
        "# # Creating the dataset and dataloader for the neural network\n",
        "\n",
        "# # Define the size of the training set\n",
        "# train_size = 0.8\n",
        "\n",
        "# # Perform a stratified split to maintain the distribution of 'bins_score' in both sets\n",
        "# train_dataset, test_dataset = train_test_split(new_df, train_size=train_size, stratify=df['bins_score'], random_state=SEED)\n",
        "\n",
        "# # Reset index for both datasets\n",
        "# train_dataset = train_dataset.reset_index(drop=True)\n",
        "# test_dataset = test_dataset.reset_index(drop=True)\n",
        "\n",
        "\n",
        "# print(\"FULL Dataset: {}\".format(new_df.shape))\n",
        "# print(\"TRAIN Dataset: {}\".format(train_dataset.shape))\n",
        "# print(\"TEST Dataset: {}\".format(test_dataset.shape))\n",
        "\n",
        "# training_set = CustomDataset(train_dataset, tokenizer, MAX_LEN)\n",
        "# testing_set = CustomDataset(test_dataset, tokenizer, MAX_LEN)"
      ]
    },
    {
      "cell_type": "code",
      "execution_count": 21,
      "metadata": {
        "cellView": "form",
        "id": "utwq5DohJQK8"
      },
      "outputs": [],
      "source": [
        "# @title\n",
        "# train_params = {'batch_size': TRAIN_BATCH_SIZE,\n",
        "#                 'shuffle': True,\n",
        "#                 'num_workers': 0\n",
        "#                 }\n",
        "\n",
        "# test_params = {'batch_size': VALID_BATCH_SIZE,\n",
        "#                 'shuffle': True,\n",
        "#                 'num_workers': 0\n",
        "#                 }\n",
        "\n",
        "# training_loader = DataLoader(training_set, **train_params)\n",
        "# testing_loader = DataLoader(testing_set, **test_params)"
      ]
    },
    {
      "cell_type": "code",
      "execution_count": 22,
      "metadata": {
        "cellView": "form",
        "id": "tivD7EcLJQK8"
      },
      "outputs": [],
      "source": [
        "# @title\n",
        "# # Creating the customized model, by adding a drop out and a dense layer on top of distil bert to get the final output for the model.\n",
        "\n",
        "# class BERTClass(torch.nn.Module):\n",
        "#     def __init__(self):\n",
        "#         super(BERTClass, self).__init__()\n",
        "#         self.l1 = transformers.BertModel.from_pretrained('bert-base-uncased')\n",
        "#         self.l2 = torch.nn.Dropout(0.3)\n",
        "#         self.l3 = torch.nn.Linear(768, 1)  # Output a single continuous value\n",
        "\n",
        "#     def forward(self, ids, mask, token_type_ids):\n",
        "#         _, output_1= self.l1(ids, attention_mask=mask, token_type_ids=token_type_ids, return_dict=False)\n",
        "#         output_2 = self.l2(output_1)\n",
        "#         output = self.l3(output_2)\n",
        "#         return output\n",
        "\n",
        "# model = BERTClass()\n",
        "# model.to(device)"
      ]
    },
    {
      "cell_type": "code",
      "execution_count": 23,
      "metadata": {
        "cellView": "form",
        "id": "fETfpx-oJQK8"
      },
      "outputs": [],
      "source": [
        "# @title\n",
        "# def loss_fn(outputs, targets):\n",
        "#     return torch.nn.MSELoss()(outputs.view(-1), targets.view(-1))  # Mean Squared Error Loss\n",
        "# optimizer = torch.optim.Adam(params =  model.parameters(), lr=LEARNING_RATE)"
      ]
    },
    {
      "cell_type": "code",
      "execution_count": 24,
      "metadata": {
        "cellView": "form",
        "id": "6pkdVjaGJQK8"
      },
      "outputs": [],
      "source": [
        "# @title\n",
        "# def train(epoch):\n",
        "#     model.train()\n",
        "#     fin_targets_train = []\n",
        "#     fin_outputs_train = []\n",
        "#     for _, data in enumerate(training_loader, 0):\n",
        "#         ids = data['ids'].to(device, dtype=torch.long)\n",
        "#         mask = data['mask'].to(device, dtype=torch.long)\n",
        "#         token_type_ids = data['token_type_ids'].to(device, dtype=torch.long)\n",
        "#         targets = data['targets'].to(device, dtype=torch.float)\n",
        "\n",
        "#         outputs = model(ids, mask, token_type_ids)\n",
        "\n",
        "#         optimizer.zero_grad()\n",
        "#         loss = loss_fn(outputs, targets)\n",
        "\n",
        "#         fin_targets_train.extend(targets.cpu().detach().numpy().tolist())\n",
        "#         fin_outputs_train.extend(outputs.cpu().detach().numpy().tolist())\n",
        "\n",
        "#         if _ % 5000 == 0:\n",
        "#             print(f'Epoch: {epoch}, Loss:  {loss.item()}')\n",
        "\n",
        "#         loss.backward()\n",
        "#         optimizer.step()\n",
        "\n",
        "#     return fin_outputs_train, fin_targets_train\n",
        "\n",
        "# def validation(epoch):\n",
        "#     model.eval()\n",
        "#     fin_targets = []\n",
        "#     fin_outputs = []\n",
        "#     with torch.no_grad():\n",
        "#         for _, data in enumerate(testing_loader, 0):\n",
        "#             ids = data['ids'].to(device, dtype=torch.long)\n",
        "#             mask = data['mask'].to(device, dtype=torch.long)\n",
        "#             token_type_ids = data['token_type_ids'].to(device, dtype=torch.long)\n",
        "#             targets = data['targets'].to(device, dtype=torch.float)\n",
        "\n",
        "#             outputs = model(ids, mask, token_type_ids)\n",
        "#             fin_targets.extend(targets.cpu().detach().numpy().tolist())\n",
        "#             fin_outputs.extend(outputs.cpu().detach().numpy().tolist())\n",
        "\n",
        "#     return fin_outputs, fin_targets"
      ]
    },
    {
      "cell_type": "code",
      "execution_count": 25,
      "metadata": {
        "cellView": "form",
        "id": "cXA5_G_9JQK9"
      },
      "outputs": [],
      "source": [
        "# @title\n",
        "# # Main training and validation loop\n",
        "# for epoch in range(EPOCHS):\n",
        "#     outputs_train, targets_train = train(epoch)\n",
        "#     outputs_train = np.squeeze(outputs_train)  # Convert outputs to a 1D array\n",
        "\n",
        "#     # Calculate and print training metrics\n",
        "#     # mse_train = mean_squared_error(targets_train, outputs_train)\n",
        "#     mae_train = mean_absolute_error(targets_train, outputs_train)\n",
        "#     # print(f\"Epoch {epoch} - Training Mean Squared Error: {mse_train}\")\n",
        "#     print(f\"Epoch {epoch} - Training Mean Absolute Error: {mae_train}\")\n",
        "\n",
        "#     # Validate the model\n",
        "#     outputs, targets = validation(epoch)\n",
        "#     outputs = np.squeeze(outputs)  # Convert outputs to a 1D array for regression metrics\n",
        "\n",
        "#     # Calculate and print validation metrics\n",
        "#     # mse = mean_squared_error(targets, outputs)\n",
        "#     mae = mean_absolute_error(targets, outputs)\n",
        "#     # r2 = r2_score(targets, outputs)\n",
        "#     # print(f\"Epoch {epoch} - Validation Mean Squared Error: {mse}\")\n",
        "#     print(f\"Epoch {epoch} - Validation Mean Absolute Error: {mae}\")\n",
        "#     # print(f\"Epoch {epoch} - R-Squared: {r2}\")"
      ]
    },
    {
      "cell_type": "code",
      "execution_count": 26,
      "metadata": {
        "cellView": "form",
        "id": "KXGue_tFJQK9"
      },
      "outputs": [],
      "source": [
        "# @title\n",
        "# torch.save(model.state_dict(), 'fine_tuned_bert_model_3.pth')"
      ]
    },
    {
      "cell_type": "markdown",
      "metadata": {
        "id": "WVFMO8-3JQK9"
      },
      "source": [
        "<h3>Deep Learning Part 2.1: Extract Embeddings from Fine-tuned BERT Model</h3>"
      ]
    },
    {
      "cell_type": "code",
      "execution_count": 32,
      "metadata": {
        "id": "-1YEvb6wJQK9"
      },
      "outputs": [],
      "source": [
        "class BERTClass(torch.nn.Module):\n",
        "    def __init__(self):\n",
        "        super(BERTClass, self).__init__()\n",
        "        self.l1 = transformers.BertModel.from_pretrained('bert-base-uncased')\n",
        "\n",
        "        # Add any additional layers that were part of the fine-tuning\n",
        "        self.l2 = torch.nn.Dropout(0.3)\n",
        "        self.l3 = torch.nn.Linear(768, 128)\n",
        "        self.l4 = torch.nn.ReLU()\n",
        "        self.l5 = torch.nn.Linear(128, 1)\n",
        "\n",
        "    def forward(self, ids, mask, token_type_ids):\n",
        "        with torch.no_grad():\n",
        "            output = self.l1(ids, attention_mask=mask, token_type_ids=token_type_ids, return_dict=False)\n",
        "\n",
        "        return output[1]  # Or output[0] depending on your requirement\n",
        "\n",
        "\n"
      ]
    },
    {
      "cell_type": "code",
      "execution_count": 33,
      "metadata": {
        "id": "uwbN6ChVJQK9"
      },
      "outputs": [
        {
          "data": {
            "text/plain": [
              "BERTClass(\n",
              "  (l1): BertModel(\n",
              "    (embeddings): BertEmbeddings(\n",
              "      (word_embeddings): Embedding(30522, 768, padding_idx=0)\n",
              "      (position_embeddings): Embedding(512, 768)\n",
              "      (token_type_embeddings): Embedding(2, 768)\n",
              "      (LayerNorm): LayerNorm((768,), eps=1e-12, elementwise_affine=True)\n",
              "      (dropout): Dropout(p=0.1, inplace=False)\n",
              "    )\n",
              "    (encoder): BertEncoder(\n",
              "      (layer): ModuleList(\n",
              "        (0-11): 12 x BertLayer(\n",
              "          (attention): BertAttention(\n",
              "            (self): BertSelfAttention(\n",
              "              (query): Linear(in_features=768, out_features=768, bias=True)\n",
              "              (key): Linear(in_features=768, out_features=768, bias=True)\n",
              "              (value): Linear(in_features=768, out_features=768, bias=True)\n",
              "              (dropout): Dropout(p=0.1, inplace=False)\n",
              "            )\n",
              "            (output): BertSelfOutput(\n",
              "              (dense): Linear(in_features=768, out_features=768, bias=True)\n",
              "              (LayerNorm): LayerNorm((768,), eps=1e-12, elementwise_affine=True)\n",
              "              (dropout): Dropout(p=0.1, inplace=False)\n",
              "            )\n",
              "          )\n",
              "          (intermediate): BertIntermediate(\n",
              "            (dense): Linear(in_features=768, out_features=3072, bias=True)\n",
              "            (intermediate_act_fn): GELUActivation()\n",
              "          )\n",
              "          (output): BertOutput(\n",
              "            (dense): Linear(in_features=3072, out_features=768, bias=True)\n",
              "            (LayerNorm): LayerNorm((768,), eps=1e-12, elementwise_affine=True)\n",
              "            (dropout): Dropout(p=0.1, inplace=False)\n",
              "          )\n",
              "        )\n",
              "      )\n",
              "    )\n",
              "    (pooler): BertPooler(\n",
              "      (dense): Linear(in_features=768, out_features=768, bias=True)\n",
              "      (activation): Tanh()\n",
              "    )\n",
              "  )\n",
              "  (l2): Dropout(p=0.3, inplace=False)\n",
              "  (l3): Linear(in_features=768, out_features=128, bias=True)\n",
              "  (l4): ReLU()\n",
              "  (l5): Linear(in_features=128, out_features=1, bias=True)\n",
              ")"
            ]
          },
          "execution_count": 33,
          "metadata": {},
          "output_type": "execute_result"
        }
      ],
      "source": [
        "# Load the model\n",
        "bert_model = BERTClass()\n",
        "bert_model.load_state_dict(torch.load('fine_tuned_bert_model_final_truncation_freezeall.pth'))\n",
        "bert_model.to(device)\n",
        "\n",
        "# Set to evaluation mode for inference\n",
        "bert_model.eval()"
      ]
    },
    {
      "cell_type": "code",
      "execution_count": null,
      "metadata": {
        "colab": {
          "base_uri": "https://localhost:8080/"
        },
        "id": "fEqKIOFfQ_g5",
        "outputId": "ce4ac283-b54b-4e47-da65-839716ec6477"
      },
      "outputs": [
        {
          "name": "stdout",
          "output_type": "stream",
          "text": [
            "Drive already mounted at /content/drive; to attempt to forcibly remount, call drive.mount(\"/content/drive\", force_remount=True).\n"
          ]
        },
        {
          "data": {
            "text/plain": [
              "BERTClass(\n",
              "  (l1): BertModel(\n",
              "    (embeddings): BertEmbeddings(\n",
              "      (word_embeddings): Embedding(30522, 768, padding_idx=0)\n",
              "      (position_embeddings): Embedding(512, 768)\n",
              "      (token_type_embeddings): Embedding(2, 768)\n",
              "      (LayerNorm): LayerNorm((768,), eps=1e-12, elementwise_affine=True)\n",
              "      (dropout): Dropout(p=0.1, inplace=False)\n",
              "    )\n",
              "    (encoder): BertEncoder(\n",
              "      (layer): ModuleList(\n",
              "        (0-11): 12 x BertLayer(\n",
              "          (attention): BertAttention(\n",
              "            (self): BertSelfAttention(\n",
              "              (query): Linear(in_features=768, out_features=768, bias=True)\n",
              "              (key): Linear(in_features=768, out_features=768, bias=True)\n",
              "              (value): Linear(in_features=768, out_features=768, bias=True)\n",
              "              (dropout): Dropout(p=0.1, inplace=False)\n",
              "            )\n",
              "            (output): BertSelfOutput(\n",
              "              (dense): Linear(in_features=768, out_features=768, bias=True)\n",
              "              (LayerNorm): LayerNorm((768,), eps=1e-12, elementwise_affine=True)\n",
              "              (dropout): Dropout(p=0.1, inplace=False)\n",
              "            )\n",
              "          )\n",
              "          (intermediate): BertIntermediate(\n",
              "            (dense): Linear(in_features=768, out_features=3072, bias=True)\n",
              "            (intermediate_act_fn): GELUActivation()\n",
              "          )\n",
              "          (output): BertOutput(\n",
              "            (dense): Linear(in_features=3072, out_features=768, bias=True)\n",
              "            (LayerNorm): LayerNorm((768,), eps=1e-12, elementwise_affine=True)\n",
              "            (dropout): Dropout(p=0.1, inplace=False)\n",
              "          )\n",
              "        )\n",
              "      )\n",
              "    )\n",
              "    (pooler): BertPooler(\n",
              "      (dense): Linear(in_features=768, out_features=768, bias=True)\n",
              "      (activation): Tanh()\n",
              "    )\n",
              "  )\n",
              "  (l2): Dropout(p=0.3, inplace=False)\n",
              "  (l3): Linear(in_features=768, out_features=1, bias=True)\n",
              ")"
            ]
          },
          "execution_count": 69,
          "metadata": {},
          "output_type": "execute_result"
        }
      ],
      "source": [
        "# from google.colab import drive\n",
        "# drive.mount('/content/drive')\n",
        "# # Load the model\n",
        "# bert_model = BERTClass()\n",
        "\n",
        "# # Update this path to the location of your model in Google Drive\n",
        "# model_path = '/content/drive/My Drive/fine_tuned_bert_model_final_truncation_freeze_nostratify.pth'\n",
        "\n",
        "# bert_model.load_state_dict(torch.load(model_path))\n",
        "# bert_model.to(device)\n",
        "\n",
        "# # Set to evaluation mode for inference\n",
        "# bert_model.eval()"
      ]
    },
    {
      "cell_type": "code",
      "execution_count": 34,
      "metadata": {
        "id": "7qZxsI5UJQK9"
      },
      "outputs": [],
      "source": [
        "def generate_bert_embeddings(data_loader, model):\n",
        "    model.eval()  # Make sure the model is in evaluation mode\n",
        "    embeddings = []\n",
        "    with torch.no_grad():\n",
        "        for _, data in enumerate(data_loader, 0):\n",
        "            ids = data['ids'].to(device, dtype=torch.long)\n",
        "            mask = data['mask'].to(device, dtype=torch.long)\n",
        "            token_type_ids = data['token_type_ids'].to(device, dtype=torch.long)\n",
        "\n",
        "            embedding = model(ids, mask, token_type_ids)\n",
        "            embeddings.append(embedding.cpu().numpy())\n",
        "\n",
        "    return np.vstack(embeddings)"
      ]
    },
    {
      "cell_type": "code",
      "execution_count": 35,
      "metadata": {
        "id": "ipSik0cmJQK9"
      },
      "outputs": [],
      "source": [
        "# Assuming 'df' is your DataFrame and it has a column named 'Synopsis'\n",
        "synopses = df['Synopsis'].tolist()  # Convert the column to a list\n",
        "\n",
        "# Initialize the BERT tokenizer\n",
        "tokenizer = BertTokenizer.from_pretrained('bert-base-uncased')\n"
      ]
    },
    {
      "cell_type": "code",
      "execution_count": 36,
      "metadata": {
        "id": "7I-aOgBDJQK-"
      },
      "outputs": [],
      "source": [
        "class SynopsesEmbeddingDataset(Dataset):\n",
        "    def __init__(self, synopses_series, tokenizer, max_len):\n",
        "        self.tokenizer = tokenizer\n",
        "        # self.data = dataframe\n",
        "        # self.Synopsis = dataframe.Synopsis\n",
        "        self.synopses = synopses_series\n",
        "        self.max_len = max_len\n",
        "\n",
        "    def __len__(self):\n",
        "        return len(self.synopses)\n",
        "\n",
        "    def __getitem__(self, index):\n",
        "        synopsis = str(self.synopses.iloc[index])\n",
        "        synopsis = \" \".join(synopsis.split())\n",
        "\n",
        "        inputs = self.tokenizer.encode_plus(\n",
        "            synopsis,\n",
        "            None,\n",
        "            add_special_tokens=True,\n",
        "            max_length=self.max_len,\n",
        "            pad_to_max_length=True,\n",
        "            return_attention_mask=True,\n",
        "            return_token_type_ids=True,\n",
        "            truncation = True\n",
        "        )\n",
        "        return {\n",
        "            'ids': torch.tensor(inputs['input_ids'], dtype=torch.long),\n",
        "            'mask': torch.tensor(inputs['attention_mask'], dtype=torch.long),\n",
        "            'token_type_ids': torch.tensor(inputs['token_type_ids'], dtype=torch.long)\n",
        "        }"
      ]
    },
    {
      "cell_type": "code",
      "execution_count": 37,
      "metadata": {
        "colab": {
          "base_uri": "https://localhost:8080/"
        },
        "id": "eDmItBPgJQK-",
        "outputId": "2845b491-0fb8-4ede-fdde-2fc61c32f6c6"
      },
      "outputs": [
        {
          "name": "stderr",
          "output_type": "stream",
          "text": [
            "c:\\ProgramData\\anaconda3\\envs\\MDR2\\Lib\\site-packages\\transformers\\tokenization_utils_base.py:2618: FutureWarning: The `pad_to_max_length` argument is deprecated and will be removed in a future version, use `padding=True` or `padding='longest'` to pad to the longest sequence in the batch, or use `padding='max_length'` to pad to a max length. In this case, you can give a specific length with `max_length` (e.g. `max_length=45`) or leave max_length to None to pad to the maximal input size of the model (e.g. 512 for Bert).\n",
            "  warnings.warn(\n"
          ]
        }
      ],
      "source": [
        "# Creating the dataset and dataloader\n",
        "synopses_dataset = SynopsesEmbeddingDataset(df['Synopsis'], tokenizer, max_len=512)\n",
        "synopses_data_loader = DataLoader(synopses_dataset, batch_size=32, shuffle=False)\n",
        "\n",
        "synopsis_embeddings = generate_bert_embeddings(synopses_data_loader, bert_model)"
      ]
    },
    {
      "cell_type": "markdown",
      "metadata": {
        "id": "53Qh1GEbJQK-"
      },
      "source": [
        "<h3>Deep Learning Part 2.2: Combine with other features (Genres, Studios, Rating, and Type)</h3>"
      ]
    },
    {
      "cell_type": "code",
      "execution_count": 38,
      "metadata": {
        "id": "mIwEvXLzJQK-"
      },
      "outputs": [],
      "source": [
        "# Your existing code for processing features\n",
        "genres_list_dl = df['Genres'].str.get_dummies(sep=', ')\n",
        "studios_list_dl = df['Studios'].str.get_dummies(sep=', ')\n",
        "type_encoded_dl = pd.get_dummies(df['Type'], prefix='Type')\n",
        "ratings_encoded_dl = pd.get_dummies(df['Ratings'], prefix='Ratings')\n",
        "\n",
        "other_features_df = pd.concat([genres_list_dl, studios_list_dl, type_encoded_dl, ratings_encoded_dl], axis=1)\n",
        "other_features = other_features_df.values.astype('float32')"
      ]
    },
    {
      "cell_type": "code",
      "execution_count": 39,
      "metadata": {
        "id": "ApP8xWOcJQK-"
      },
      "outputs": [],
      "source": [
        "combined_features = np.concatenate((synopsis_embeddings, other_features), axis=1)"
      ]
    },
    {
      "cell_type": "code",
      "execution_count": 40,
      "metadata": {
        "id": "On7ma64cJQLI"
      },
      "outputs": [],
      "source": [
        "X_dl = combined_features\n",
        "y_dl = df['Score'].values.astype('float32')"
      ]
    },
    {
      "cell_type": "code",
      "execution_count": 53,
      "metadata": {
        "id": "hQX9-AqFJQLI"
      },
      "outputs": [],
      "source": [
        "# X_train, X_test, y_train, y_test = train_test_split(X_dl, y_dl, train_size=0.8, random_state=SEED)\n",
        "# Load the indices from your saved CSV files\n",
        "train_indices = pd.read_csv('train_dataset.csv', usecols=[0]).values.flatten()\n",
        "test_indices = pd.read_csv('test_dataset.csv', usecols=[0]).values.flatten()\n",
        "\n",
        "# Assuming X_dl and y_dl are already defined as mentioned\n",
        "# X_dl = combined_features\n",
        "# y_dl = df['Score'].values.astype('float32')\n",
        "\n",
        "# Split X_dl and y_dl based on these indices\n",
        "X_dl_train = X_dl[train_indices]\n",
        "y_dl_train = y_dl[train_indices]\n",
        "\n",
        "X_dl_test = X_dl[test_indices]\n",
        "y_dl_test = y_dl[test_indices]"
      ]
    },
    {
      "cell_type": "code",
      "execution_count": 54,
      "metadata": {
        "id": "KwYm26V3JQLJ"
      },
      "outputs": [],
      "source": [
        "# Convert data to PyTorch tensors\n",
        "X_train_tensor = torch.tensor(X_train, dtype=torch.float32)\n",
        "y_train_tensor = torch.tensor(y_train, dtype=torch.float32)\n",
        "X_test_tensor = torch.tensor(X_test, dtype=torch.float32)\n",
        "y_test_tensor = torch.tensor(y_test, dtype=torch.float32)\n"
      ]
    },
    {
      "cell_type": "code",
      "execution_count": 55,
      "metadata": {
        "id": "oCtTxpInJQLJ"
      },
      "outputs": [],
      "source": [
        "# Creating datasets for DataLoader\n",
        "train_dataset = TensorDataset(X_train_tensor, y_train_tensor)\n",
        "test_dataset = TensorDataset(X_test_tensor, y_test_tensor)\n"
      ]
    },
    {
      "cell_type": "code",
      "execution_count": 56,
      "metadata": {
        "id": "8Q5cEkVBJQLJ"
      },
      "outputs": [],
      "source": [
        "# # Data Loaders\n",
        "# train_loader = DataLoader(dataset=train_dataset, batch_size=10, shuffle=True)\n",
        "# test_loader = DataLoader(dataset=test_dataset, batch_size=10, shuffle=False)\n",
        "\n",
        "def _init_fn(worker_id):\n",
        "    np.random.seed(int(SEED))\n",
        "\n",
        "train_loader = DataLoader(dataset=train_dataset, batch_size=10, shuffle=True, worker_init_fn=_init_fn)\n",
        "test_loader = DataLoader(dataset=test_dataset, batch_size=10, shuffle=False, worker_init_fn=_init_fn)"
      ]
    },
    {
      "cell_type": "code",
      "execution_count": 57,
      "metadata": {
        "colab": {
          "base_uri": "https://localhost:8080/"
        },
        "id": "H4DMz6whJQLJ",
        "outputId": "ae738cbd-8f77-47f5-bb93-7dc4182759bf"
      },
      "outputs": [
        {
          "data": {
            "text/plain": [
              "RegressionModel(\n",
              "  (fc1): Linear(in_features=1621, out_features=64, bias=True)\n",
              "  (relu): ReLU()\n",
              "  (fc2): Linear(in_features=64, out_features=32, bias=True)\n",
              "  (fc3): Linear(in_features=32, out_features=1, bias=True)\n",
              ")"
            ]
          },
          "execution_count": 57,
          "metadata": {},
          "output_type": "execute_result"
        }
      ],
      "source": [
        "# Model definition\n",
        "seed_torch(4)\n",
        "class RegressionModel(nn.Module): # defines a new class RegressionModel which is a subclass of nn.Module, the base class for all neural network modules in PyTorch. This is a standard way to create a new neural network in PyTorch.\n",
        "    def __init__(self, input_size): # constructor method\n",
        "        super(RegressionModel, self).__init__() # initializes the superclass (nn.Module) from which RegressionModel is derived\n",
        "        self.fc1 = nn.Linear(input_size, 64) # a fully connected (linear) layer with input_size neurons as input and 64 neurons as output\n",
        "        self.relu = nn.ReLU() # a ReLU activation function to establish non-linearity to the model, which allows it to learn more complex relationships.\n",
        "        self.fc2 = nn.Linear(64, 32) # another fully connected layer that takes 64 inputs (the output of the previous layer) and outputs to 32 neurons\n",
        "        self.fc3 = nn.Linear(32, 1) # final fully connected layer takes 32 inputs and reduces it to a single output since this is a regression problem\n",
        "\n",
        "    def forward(self, x): #defines the forward pass of the network\n",
        "        x = self.relu(self.fc1(x)) # the input x is passed through the first linear layer (fc1) and then through the ReLU activation function. The result is then stored back in x.\n",
        "        x = self.relu(self.fc2(x)) # output of the previous step (now in x) is passed through the second linear layer (fc2) and again through the ReLU function.\n",
        "        x = self.fc3(x) # the output from the last step is passed through the third linear layer (fc3)\n",
        "        return x # returns the final output\n",
        "\n",
        "regression_model = RegressionModel(X_train.shape[1])\n",
        "regression_model.to(device)  # Move the model to the specified device\n"
      ]
    },
    {
      "cell_type": "code",
      "execution_count": 58,
      "metadata": {
        "id": "ive9UWTTJQLJ"
      },
      "outputs": [],
      "source": [
        "# Loss and optimizer\n",
        "criterion = nn.L1Loss()\n",
        "optimizer = optim.Adam(regression_model.parameters())"
      ]
    },
    {
      "cell_type": "code",
      "execution_count": 59,
      "metadata": {
        "id": "WlW7RxttJQLJ"
      },
      "outputs": [],
      "source": [
        "# Lists to store metrics\n",
        "training_mae_list = []\n",
        "validation_mae_list = []\n",
        "\n",
        "def train_regression(epoch):\n",
        "    regression_model.train()\n",
        "    fin_targets_train = []\n",
        "    fin_outputs_train = []\n",
        "    for i, data in enumerate(train_loader, 0):\n",
        "        X_batch, y_batch = data[0].to(device), data[1].to(device)\n",
        "\n",
        "        optimizer.zero_grad()\n",
        "        outputs = regression_model(X_batch)\n",
        "        loss = criterion(outputs, y_batch.view(-1, 1))\n",
        "        loss.backward()\n",
        "        optimizer.step()\n",
        "\n",
        "        fin_targets_train.extend(y_batch.cpu().detach().numpy().tolist())\n",
        "        fin_outputs_train.extend(outputs.cpu().detach().numpy().tolist())\n",
        "\n",
        "        if i % 5000 == 0:\n",
        "            print(f'Epoch: {epoch}, Loss:  {loss.item()}')\n",
        "\n",
        "    return fin_outputs_train, fin_targets_train\n",
        "\n",
        "def validation_regression(epoch):\n",
        "    regression_model.eval()\n",
        "    fin_targets = []\n",
        "    fin_outputs = []\n",
        "    with torch.no_grad():\n",
        "        for data in test_loader:\n",
        "            X_batch, y_batch = data[0].to(device), data[1].to(device)\n",
        "\n",
        "            outputs = regression_model(X_batch)\n",
        "            fin_targets.extend(y_batch.cpu().detach().numpy().tolist())\n",
        "            fin_outputs.extend(outputs.cpu().detach().numpy().tolist())\n",
        "\n",
        "    return fin_outputs, fin_targets\n"
      ]
    },
    {
      "cell_type": "code",
      "execution_count": 60,
      "metadata": {
        "colab": {
          "base_uri": "https://localhost:8080/"
        },
        "id": "wDOdkVnD9-uE",
        "outputId": "5450c125-6054-4c8a-859f-00382dfe9880"
      },
      "outputs": [
        {
          "name": "stdout",
          "output_type": "stream",
          "text": [
            "Epoch: 0, Loss:  6.489713191986084\n",
            "Training Mean Absolute Error: 0.42345044514379654\n",
            "Validation Mean Absolute Error: 0.4164608290834994\n",
            "\n",
            "Epoch: 1, Loss:  0.3889821171760559\n",
            "Training Mean Absolute Error: 0.2979299787319068\n",
            "Validation Mean Absolute Error: 0.31408107153628145\n",
            "\n",
            "Epoch: 2, Loss:  0.2399403154850006\n",
            "Training Mean Absolute Error: 0.2828579940378465\n",
            "Validation Mean Absolute Error: 0.2776172060088812\n",
            "\n",
            "Epoch: 3, Loss:  0.2201862335205078\n",
            "Training Mean Absolute Error: 0.2875974106735118\n",
            "Validation Mean Absolute Error: 0.275228608671396\n",
            "\n",
            "Epoch: 4, Loss:  0.15303193032741547\n",
            "Training Mean Absolute Error: 0.28239726812884997\n",
            "Validation Mean Absolute Error: 0.2775856345457126\n",
            "\n",
            "Epoch: 5, Loss:  0.327549546957016\n",
            "Training Mean Absolute Error: 0.2778138625702071\n",
            "Validation Mean Absolute Error: 0.2902347275571256\n",
            "\n",
            "Epoch: 6, Loss:  0.19088797271251678\n",
            "Training Mean Absolute Error: 0.2804495868859468\n",
            "Validation Mean Absolute Error: 0.2933429311689169\n",
            "\n",
            "Epoch: 7, Loss:  0.2379838079214096\n",
            "Training Mean Absolute Error: 0.27538301112542113\n",
            "Validation Mean Absolute Error: 0.2669697737051582\n",
            "\n",
            "Epoch: 8, Loss:  0.39058375358581543\n",
            "Training Mean Absolute Error: 0.28197897851935405\n",
            "Validation Mean Absolute Error: 0.27070998964887677\n",
            "\n",
            "Epoch: 9, Loss:  0.29729101061820984\n",
            "Training Mean Absolute Error: 0.27622588455476343\n",
            "Validation Mean Absolute Error: 0.32356802495374154\n",
            "\n",
            "Epoch: 10, Loss:  0.38815394043922424\n",
            "Training Mean Absolute Error: 0.27624178153497203\n",
            "Validation Mean Absolute Error: 0.2701780945229878\n",
            "\n",
            "Epoch: 11, Loss:  0.24770604074001312\n",
            "Training Mean Absolute Error: 0.2722510942973941\n",
            "Validation Mean Absolute Error: 0.31923254551710906\n",
            "\n",
            "Epoch: 12, Loss:  0.1950675994157791\n",
            "Training Mean Absolute Error: 0.27564053155490176\n",
            "Validation Mean Absolute Error: 0.2766168238605581\n",
            "\n",
            "Epoch: 13, Loss:  0.18083405494689941\n",
            "Training Mean Absolute Error: 0.27039560451518274\n",
            "Validation Mean Absolute Error: 0.2702857668686127\n",
            "\n",
            "Epoch: 14, Loss:  0.15437613427639008\n",
            "Training Mean Absolute Error: 0.2713599481299001\n",
            "Validation Mean Absolute Error: 0.2967332117886656\n",
            "\n",
            "Epoch: 15, Loss:  0.23489002883434296\n",
            "Training Mean Absolute Error: 0.2693993659265649\n",
            "Validation Mean Absolute Error: 0.26892138684772615\n",
            "\n",
            "Epoch: 16, Loss:  0.12520499527454376\n",
            "Training Mean Absolute Error: 0.2686913120157925\n",
            "Validation Mean Absolute Error: 0.2684426444815733\n",
            "\n",
            "Epoch: 17, Loss:  0.14424018561840057\n",
            "Training Mean Absolute Error: 0.27193225761321527\n",
            "Validation Mean Absolute Error: 0.28490113897623304\n",
            "\n",
            "Epoch: 18, Loss:  0.2407420128583908\n",
            "Training Mean Absolute Error: 0.26522458897429013\n",
            "Validation Mean Absolute Error: 0.27841716362571073\n",
            "\n",
            "Epoch: 19, Loss:  0.13821926712989807\n",
            "Training Mean Absolute Error: 0.2668410501830639\n",
            "Validation Mean Absolute Error: 0.276194710188308\n",
            "\n",
            "Epoch: 20, Loss:  0.2625150680541992\n",
            "Training Mean Absolute Error: 0.2670321667234504\n",
            "Validation Mean Absolute Error: 0.26773629987279973\n",
            "\n",
            "Epoch: 21, Loss:  0.23032565414905548\n",
            "Training Mean Absolute Error: 0.2690307607353737\n",
            "Validation Mean Absolute Error: 0.3538544521187291\n",
            "\n",
            "Epoch: 22, Loss:  0.42668434977531433\n",
            "Training Mean Absolute Error: 0.26455834738734596\n",
            "Validation Mean Absolute Error: 0.2763039493801618\n",
            "\n",
            "Epoch: 23, Loss:  0.15055003762245178\n",
            "Training Mean Absolute Error: 0.26682280229799676\n",
            "Validation Mean Absolute Error: 0.3036365635467298\n",
            "\n",
            "Epoch: 24, Loss:  0.24300514161586761\n",
            "Training Mean Absolute Error: 0.26665551166074175\n",
            "Validation Mean Absolute Error: 0.2702442457780292\n",
            "\n",
            "Epoch: 25, Loss:  0.16834168136119843\n",
            "Training Mean Absolute Error: 0.26337504627728703\n",
            "Validation Mean Absolute Error: 0.26881652160659514\n",
            "\n",
            "Epoch: 26, Loss:  0.19991879165172577\n",
            "Training Mean Absolute Error: 0.264073356434151\n",
            "Validation Mean Absolute Error: 0.2718971268630322\n",
            "\n",
            "Epoch: 27, Loss:  0.33061152696609497\n",
            "Training Mean Absolute Error: 0.260363401454172\n",
            "Validation Mean Absolute Error: 0.2688857106247334\n",
            "\n",
            "Epoch: 28, Loss:  0.153779074549675\n",
            "Training Mean Absolute Error: 0.26605173952116573\n",
            "Validation Mean Absolute Error: 0.3301414773787981\n",
            "\n",
            "Epoch: 29, Loss:  0.24759435653686523\n",
            "Training Mean Absolute Error: 0.2653137051430348\n",
            "Validation Mean Absolute Error: 0.2678907769162513\n",
            "\n",
            "Epoch: 30, Loss:  0.22557078301906586\n",
            "Training Mean Absolute Error: 0.26464048874231033\n",
            "Validation Mean Absolute Error: 0.295615798629628\n",
            "\n",
            "Epoch: 31, Loss:  0.19394707679748535\n",
            "Training Mean Absolute Error: 0.2637332865150957\n",
            "Validation Mean Absolute Error: 0.26893221027521974\n",
            "\n",
            "Epoch: 32, Loss:  0.2623808979988098\n",
            "Training Mean Absolute Error: 0.2657664083738787\n",
            "Validation Mean Absolute Error: 0.26857797779753284\n",
            "\n",
            "Epoch: 33, Loss:  0.17499618232250214\n",
            "Training Mean Absolute Error: 0.25920439194616113\n",
            "Validation Mean Absolute Error: 0.27037468468968984\n",
            "\n",
            "Epoch: 34, Loss:  0.21916353702545166\n",
            "Training Mean Absolute Error: 0.2637047015724225\n",
            "Validation Mean Absolute Error: 0.29211516967659984\n",
            "\n",
            "Epoch: 35, Loss:  0.33699464797973633\n",
            "Training Mean Absolute Error: 0.2665644075332667\n",
            "Validation Mean Absolute Error: 0.2785013077234981\n",
            "\n",
            "Epoch: 36, Loss:  0.19746775925159454\n",
            "Training Mean Absolute Error: 0.2621294514231141\n",
            "Validation Mean Absolute Error: 0.2693071713886411\n",
            "\n",
            "Epoch: 37, Loss:  0.6466711759567261\n",
            "Training Mean Absolute Error: 0.26220019123235805\n",
            "Validation Mean Absolute Error: 0.2885951411844504\n",
            "\n",
            "Epoch: 38, Loss:  0.18208375573158264\n",
            "Training Mean Absolute Error: 0.2626449445682744\n",
            "Validation Mean Absolute Error: 0.26973925448962466\n",
            "\n",
            "Epoch: 39, Loss:  0.2513234615325928\n",
            "Training Mean Absolute Error: 0.26097797384165755\n",
            "Validation Mean Absolute Error: 0.27918880535697294\n",
            "\n",
            "Epoch: 40, Loss:  0.35102444887161255\n",
            "Training Mean Absolute Error: 0.26047870981706644\n",
            "Validation Mean Absolute Error: 0.2689748192341908\n",
            "\n",
            "Epoch: 41, Loss:  0.25473329424858093\n",
            "Training Mean Absolute Error: 0.2641958077882409\n",
            "Validation Mean Absolute Error: 0.31166787908802396\n",
            "\n",
            "Epoch: 42, Loss:  0.13880124688148499\n",
            "Training Mean Absolute Error: 0.26257741779055527\n",
            "Validation Mean Absolute Error: 0.3322873901571623\n",
            "\n",
            "Epoch: 43, Loss:  0.30106645822525024\n",
            "Training Mean Absolute Error: 0.2603397427584587\n",
            "Validation Mean Absolute Error: 0.2880635400011082\n",
            "\n",
            "Epoch: 44, Loss:  0.17612791061401367\n",
            "Training Mean Absolute Error: 0.26072886830360936\n",
            "Validation Mean Absolute Error: 0.2964094279858667\n",
            "\n",
            "Epoch: 45, Loss:  0.43374332785606384\n",
            "Training Mean Absolute Error: 0.2585610981474554\n",
            "Validation Mean Absolute Error: 0.30036562172785886\n",
            "\n",
            "Epoch: 46, Loss:  0.19798345863819122\n",
            "Training Mean Absolute Error: 0.26212050042436047\n",
            "Validation Mean Absolute Error: 0.2841183132461693\n",
            "\n",
            "Epoch: 47, Loss:  0.2847626805305481\n",
            "Training Mean Absolute Error: 0.25776173617569553\n",
            "Validation Mean Absolute Error: 0.2710866370854019\n",
            "\n",
            "Epoch: 48, Loss:  0.3605879843235016\n",
            "Training Mean Absolute Error: 0.25788265727585813\n",
            "Validation Mean Absolute Error: 0.27443194436170704\n",
            "\n",
            "Epoch: 49, Loss:  0.18765679001808167\n",
            "Training Mean Absolute Error: 0.2632614966862397\n",
            "Validation Mean Absolute Error: 0.2687946786115199\n",
            "\n",
            "Epoch: 50, Loss:  0.4612073004245758\n",
            "Training Mean Absolute Error: 0.2573941260342111\n",
            "Validation Mean Absolute Error: 0.2810739949763691\n",
            "\n",
            "Epoch: 51, Loss:  0.20102158188819885\n",
            "Training Mean Absolute Error: 0.26101902531988824\n",
            "Validation Mean Absolute Error: 0.28397209897185816\n",
            "\n",
            "Epoch: 52, Loss:  0.17973099648952484\n",
            "Training Mean Absolute Error: 0.25783158780214627\n",
            "Validation Mean Absolute Error: 0.26927257781612085\n",
            "\n",
            "Epoch: 53, Loss:  0.23990845680236816\n",
            "Training Mean Absolute Error: 0.257070118262444\n",
            "Validation Mean Absolute Error: 0.27387928755328844\n",
            "\n",
            "Epoch: 54, Loss:  0.2508874833583832\n",
            "Training Mean Absolute Error: 0.26157942176801724\n",
            "Validation Mean Absolute Error: 0.27053868737151193\n",
            "\n",
            "Epoch: 55, Loss:  0.6068061590194702\n",
            "Training Mean Absolute Error: 0.25998752586769336\n",
            "Validation Mean Absolute Error: 0.2742903127547199\n",
            "\n",
            "Epoch: 56, Loss:  0.27118703722953796\n",
            "Training Mean Absolute Error: 0.25710612555545587\n",
            "Validation Mean Absolute Error: 0.2720895463101123\n",
            "\n",
            "Epoch: 57, Loss:  0.24391332268714905\n",
            "Training Mean Absolute Error: 0.2591757528843435\n",
            "Validation Mean Absolute Error: 0.27466949168279114\n",
            "\n",
            "Epoch: 58, Loss:  0.3150273859500885\n",
            "Training Mean Absolute Error: 0.25402334282293865\n",
            "Validation Mean Absolute Error: 0.27567536628875133\n",
            "\n",
            "Epoch: 59, Loss:  0.27799192070961\n",
            "Training Mean Absolute Error: 0.2594815904377018\n",
            "Validation Mean Absolute Error: 0.29053334147574256\n",
            "\n",
            "Epoch: 60, Loss:  0.1562555879354477\n",
            "Training Mean Absolute Error: 0.25911168812635105\n",
            "Validation Mean Absolute Error: 0.2727843938451825\n",
            "\n",
            "Epoch: 61, Loss:  0.2373286783695221\n",
            "Training Mean Absolute Error: 0.2548203074303273\n",
            "Validation Mean Absolute Error: 0.3520867084011887\n",
            "\n",
            "Epoch: 62, Loss:  0.3952704071998596\n",
            "Training Mean Absolute Error: 0.26165948893486046\n",
            "Validation Mean Absolute Error: 0.2907372769950884\n",
            "\n",
            "Epoch: 63, Loss:  0.13982538878917694\n",
            "Training Mean Absolute Error: 0.2576189605073897\n",
            "Validation Mean Absolute Error: 0.2718314733168091\n",
            "\n",
            "Epoch: 64, Loss:  0.2685351073741913\n",
            "Training Mean Absolute Error: 0.25758075239147266\n",
            "Validation Mean Absolute Error: 0.2692361503471563\n",
            "\n"
          ]
        }
      ],
      "source": [
        "# Main training and validation loop\n",
        "for epoch in range(65):\n",
        "    outputs_train, targets_train = train_regression(epoch)\n",
        "    outputs_train = np.squeeze(outputs_train)  # Convert outputs to a 1D array for regression metrics\n",
        "    mae_train = mean_absolute_error(outputs_train, targets_train)\n",
        "    training_mae_list.append(mae_train)\n",
        "    # print(f'Epoch [{epoch+1}/100], Training Mean Absolute Error: {mae_train}')\n",
        "    print(f'Training Mean Absolute Error: {mae_train}')\n",
        "\n",
        "    # Validate the model\n",
        "    outputs, targets = validation_regression(epoch)\n",
        "    validation_mae = mean_absolute_error(outputs, targets)\n",
        "    validation_mae_list.append(validation_mae)\n",
        "    print(f'Validation Mean Absolute Error: {validation_mae}\\n')\n",
        "    outputs = np.squeeze(outputs)  # Convert outputs to a 1D array for regression metrics"
      ]
    },
    {
      "cell_type": "code",
      "execution_count": 62,
      "metadata": {
        "colab": {
          "base_uri": "https://localhost:8080/",
          "height": 487
        },
        "id": "QLPdF2QX-lIJ",
        "outputId": "ec935b4e-3ea2-41cd-d28f-9e1c93a1dbc6"
      },
      "outputs": [
        {
          "data": {
            "image/png": "[encoded data removed]",
            "text/plain": [
              "<Figure size 1000x500 with 1 Axes>"
            ]
          },
          "metadata": {},
          "output_type": "display_data"
        }
      ],
      "source": [
        "import matplotlib.pyplot as plt\n",
        "\n",
        "# Plotting the metrics\n",
        "plt.figure(figsize=(10, 5))\n",
        "plt.plot(training_mae_list, label='Training MAE')\n",
        "plt.plot(validation_mae_list, label='Validation MAE')\n",
        "plt.title('Training and Validation MAE per Epoch')\n",
        "plt.xlabel('Epochs')\n",
        "plt.ylabel('Mean Absolute Error')\n",
        "plt.ylim(0, 0.5)\n",
        "plt.legend()\n",
        "plt.show()"
      ]
    },
    {
      "cell_type": "code",
      "execution_count": 50,
      "metadata": {
        "cellView": "form",
        "id": "XYKi60zlJQLK"
      },
      "outputs": [],
      "source": [
        "# @title\n",
        "# # Training loop\n",
        "# for epoch in range(60):\n",
        "#     total_loss = 0\n",
        "#     fin_targets_train = []\n",
        "#     fin_outputs_train = []\n",
        "#     for i, data in enumerate(train_loader, 0):\n",
        "#         # Move data to device\n",
        "#         X_batch, y_batch = data[0].to(device), data[1].to(device)\n",
        "\n",
        "#         optimizer.zero_grad()\n",
        "#         outputs = regression_model(X_batch)\n",
        "#         loss = criterion(outputs, y_batch.view(-1, 1))\n",
        "#         loss.backward()\n",
        "#         optimizer.step()\n",
        "\n",
        "#         fin_targets_train.extend(y_batch.cpu().detach().numpy().tolist())\n",
        "#         fin_outputs_train.extend(outputs.cpu().detach().numpy().tolist())\n",
        "\n",
        "#     # Calculate and print training MAE\n",
        "#     mae_train = mean_absolute_error(fin_targets_train, fin_outputs_train)\n",
        "#     print(f'Epoch [{epoch+1}/100], Training Mean Absolute Error: {mae_train}')\n"
      ]
    },
    {
      "cell_type": "code",
      "execution_count": 51,
      "metadata": {
        "cellView": "form",
        "id": "rkEpWJm1JQLK"
      },
      "outputs": [],
      "source": [
        "# @title\n",
        "# # Evaluation\n",
        "# regression_model.eval()\n",
        "# fin_targets = []\n",
        "# fin_outputs = []\n",
        "# with torch.no_grad():\n",
        "#     for data in test_loader:\n",
        "#         # Move data to device\n",
        "#         X_batch, y_batch = data[0].to(device), data[1].to(device)\n",
        "\n",
        "#         outputs = regression_model(X_batch)\n",
        "#         fin_targets.extend(y_batch.cpu().detach().numpy().tolist())\n",
        "#         fin_outputs.extend(outputs.cpu().detach().numpy().tolist())\n",
        "\n",
        "#     # Calculate and print validation MAE\n",
        "#     mae = mean_absolute_error(fin_targets, fin_outputs)\n",
        "#     print(f'Validation Mean Absolute Error: {mae}')"
      ]
    }
  ],
  "metadata": {
    "accelerator": "GPU",
    "colab": {
      "gpuType": "T4",
      "machine_shape": "hm",
      "provenance": []
    },
    "kernelspec": {
      "display_name": "Python 3",
      "name": "python3"
    },
    "language_info": {
      "codemirror_mode": {
        "name": "ipython",
        "version": 3
      },
      "file_extension": ".py",
      "mimetype": "text/x-python",
      "name": "python",
      "nbconvert_exporter": "python",
      "pygments_lexer": "ipython3",
      "version": "3.11.5"
    }
  },
  "nbformat": 4,
  "nbformat_minor": 0
}
