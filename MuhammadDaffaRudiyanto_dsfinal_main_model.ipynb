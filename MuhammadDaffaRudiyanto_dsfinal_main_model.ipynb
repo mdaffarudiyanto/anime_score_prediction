{
  "cells": [
    {
      "cell_type": "markdown",
      "metadata": {
        "id": "boO9VrMNJQK2"
      },
      "source": [
        "<h1>Data Science Final Project (Main Model)</h1>\n",
        "<h3>Muhammad Daffa Rudiyanto 26002104783</h3>"
      ]
    },
    {
      "cell_type": "markdown",
      "metadata": {
        "id": "70cjVntAJQK4"
      },
      "source": [
        "<h3>Setup</h3>"
      ]
    },
    {
      "cell_type": "code",
      "execution_count": 1,
      "metadata": {
        "id": "dY_ini8TJQK4"
      },
      "outputs": [],
      "source": [
        "import os\n",
        "os.environ['CUDA_LAUNCH_BLOCKING'] = \"1\"\n",
        "import random\n",
        "import numpy as np\n",
        "import pandas as pd\n",
        "from sklearn.model_selection import train_test_split\n",
        "from sklearn.feature_extraction.text import TfidfVectorizer\n",
        "from sklearn.metrics import mean_squared_error, mean_absolute_error\n",
        "from sklearn.svm import SVR\n",
        "from scipy.sparse import hstack, csr_matrix\n",
        "import matplotlib.pyplot as plt\n",
        "import transformers\n",
        "import torch\n",
        "import torch.nn as nn\n",
        "import torch.optim as optim\n",
        "from torch import cuda\n",
        "from torch.utils.data import TensorDataset, Dataset, DataLoader\n",
        "from transformers import BertTokenizer, BertModel\n"
      ]
    },
    {
      "cell_type": "code",
      "execution_count": 2,
      "metadata": {
        "id": "wc5UTy-IJQK4"
      },
      "outputs": [],
      "source": [
        "SEED = 4\n",
        "random.seed(SEED)\n",
        "np.random.seed(SEED)\n",
        "\n",
        "def seed_torch(seed=0):\n",
        "    os.environ['PYTHONHASHSEED'] = str(seed)\n",
        "    torch.manual_seed(seed)\n",
        "    torch.cuda.manual_seed(seed)\n",
        "    torch.cuda.manual_seed_all(seed)# if you are using multi-GPU.\n",
        "    torch.backends.cudnn.benchmark = False\n",
        "    torch.backends.cudnn.deterministic = True\n",
        "\n",
        "\n",
        "device = 'cuda' if cuda.is_available() else 'cpu'\n",
        "device\n",
        "\n",
        "seed_torch(4)"
      ]
    },
    {
      "cell_type": "markdown",
      "metadata": {
        "id": "Xr_-ECBiJQK5"
      },
      "source": [
        "<h3>Data Preprocessing</h3>"
      ]
    },
    {
      "cell_type": "code",
      "execution_count": 3,
      "metadata": {
        "colab": {
          "base_uri": "https://localhost:8080/",
          "height": 310
        },
        "id": "T3josA6kJQK5",
        "outputId": "6ae906d9-7028-4d3d-a607-9bdc32cc1c60"
      },
      "outputs": [
        {
          "output_type": "stream",
          "name": "stdout",
          "text": [
            "25581\n"
          ]
        },
        {
          "output_type": "execute_result",
          "data": {
            "text/plain": [
              "                                             Title  \\\n",
              "0                                          A A B C   \n",
              "1                                        A Ben Mao   \n",
              "2                               A Brightening Life   \n",
              "3  A Cappella Samurai: Harmony-tai wa Edo wo Sukuu   \n",
              "4                                 A Christmas Song   \n",
              "\n",
              "                                            Synopsis            Status  \\\n",
              "0  Music video for the song A A B C by Mieko Hiro...   Finished Airing   \n",
              "1                                                NaN   Finished Airing   \n",
              "2  Above ground, there are many people, coming an...   Finished Airing   \n",
              "3                                                NaN  Currently Airing   \n",
              "4  Music video for A Christmas Song by Monkey Maj...   Finished Airing   \n",
              "\n",
              "                      Genres   Type Studios  Members  Reviewer  \\\n",
              "0                Music, Kids  Music     NaN       73       NaN   \n",
              "1                       Kids     TV     NaN      153       NaN   \n",
              "2               Drama, Music  Movie     NaN      510     234.0   \n",
              "3  Comedy, Historical, Music    ONA     NaN       99       NaN   \n",
              "4                      Music  Music     NaN      519     273.0   \n",
              "\n",
              "                     Ratings  Score  \n",
              "0               G - All Ages    NaN  \n",
              "1              PG - Children    NaN  \n",
              "2              PG - Children   5.50  \n",
              "3  PG-13 - Teens 13 or older    NaN  \n",
              "4               G - All Ages   5.55  "
            ],
            "text/html": [
              "\n",
              "  <div id=\"df-711365fb-19c4-4e26-a5f7-e94c6cb65558\" class=\"colab-df-container\">\n",
              "    <div>\n",
              "<style scoped>\n",
              "    .dataframe tbody tr th:only-of-type {\n",
              "        vertical-align: middle;\n",
              "    }\n",
              "\n",
              "    .dataframe tbody tr th {\n",
              "        vertical-align: top;\n",
              "    }\n",
              "\n",
              "    .dataframe thead th {\n",
              "        text-align: right;\n",
              "    }\n",
              "</style>\n",
              "<table border=\"1\" class=\"dataframe\">\n",
              "  <thead>\n",
              "    <tr style=\"text-align: right;\">\n",
              "      <th></th>\n",
              "      <th>Title</th>\n",
              "      <th>Synopsis</th>\n",
              "      <th>Status</th>\n",
              "      <th>Genres</th>\n",
              "      <th>Type</th>\n",
              "      <th>Studios</th>\n",
              "      <th>Members</th>\n",
              "      <th>Reviewer</th>\n",
              "      <th>Ratings</th>\n",
              "      <th>Score</th>\n",
              "    </tr>\n",
              "  </thead>\n",
              "  <tbody>\n",
              "    <tr>\n",
              "      <th>0</th>\n",
              "      <td>A A B C</td>\n",
              "      <td>Music video for the song A A B C by Mieko Hiro...</td>\n",
              "      <td>Finished Airing</td>\n",
              "      <td>Music, Kids</td>\n",
              "      <td>Music</td>\n",
              "      <td>NaN</td>\n",
              "      <td>73</td>\n",
              "      <td>NaN</td>\n",
              "      <td>G - All Ages</td>\n",
              "      <td>NaN</td>\n",
              "    </tr>\n",
              "    <tr>\n",
              "      <th>1</th>\n",
              "      <td>A Ben Mao</td>\n",
              "      <td>NaN</td>\n",
              "      <td>Finished Airing</td>\n",
              "      <td>Kids</td>\n",
              "      <td>TV</td>\n",
              "      <td>NaN</td>\n",
              "      <td>153</td>\n",
              "      <td>NaN</td>\n",
              "      <td>PG - Children</td>\n",
              "      <td>NaN</td>\n",
              "    </tr>\n",
              "    <tr>\n",
              "      <th>2</th>\n",
              "      <td>A Brightening Life</td>\n",
              "      <td>Above ground, there are many people, coming an...</td>\n",
              "      <td>Finished Airing</td>\n",
              "      <td>Drama, Music</td>\n",
              "      <td>Movie</td>\n",
              "      <td>NaN</td>\n",
              "      <td>510</td>\n",
              "      <td>234.0</td>\n",
              "      <td>PG - Children</td>\n",
              "      <td>5.50</td>\n",
              "    </tr>\n",
              "    <tr>\n",
              "      <th>3</th>\n",
              "      <td>A Cappella Samurai: Harmony-tai wa Edo wo Sukuu</td>\n",
              "      <td>NaN</td>\n",
              "      <td>Currently Airing</td>\n",
              "      <td>Comedy, Historical, Music</td>\n",
              "      <td>ONA</td>\n",
              "      <td>NaN</td>\n",
              "      <td>99</td>\n",
              "      <td>NaN</td>\n",
              "      <td>PG-13 - Teens 13 or older</td>\n",
              "      <td>NaN</td>\n",
              "    </tr>\n",
              "    <tr>\n",
              "      <th>4</th>\n",
              "      <td>A Christmas Song</td>\n",
              "      <td>Music video for A Christmas Song by Monkey Maj...</td>\n",
              "      <td>Finished Airing</td>\n",
              "      <td>Music</td>\n",
              "      <td>Music</td>\n",
              "      <td>NaN</td>\n",
              "      <td>519</td>\n",
              "      <td>273.0</td>\n",
              "      <td>G - All Ages</td>\n",
              "      <td>5.55</td>\n",
              "    </tr>\n",
              "  </tbody>\n",
              "</table>\n",
              "</div>\n",
              "    <div class=\"colab-df-buttons\">\n",
              "\n",
              "  <div class=\"colab-df-container\">\n",
              "    <button class=\"colab-df-convert\" onclick=\"convertToInteractive('df-711365fb-19c4-4e26-a5f7-e94c6cb65558')\"\n",
              "            title=\"Convert this dataframe to an interactive table.\"\n",
              "            style=\"display:none;\">\n",
              "\n",
              "  <svg xmlns=\"http://www.w3.org/2000/svg\" height=\"24px\" viewBox=\"0 -960 960 960\">\n",
              "    <path d=\"M120-120v-720h720v720H120Zm60-500h600v-160H180v160Zm220 220h160v-160H400v160Zm0 220h160v-160H400v160ZM180-400h160v-160H180v160Zm440 0h160v-160H620v160ZM180-180h160v-160H180v160Zm440 0h160v-160H620v160Z\"/>\n",
              "  </svg>\n",
              "    </button>\n",
              "\n",
              "  <style>\n",
              "    .colab-df-container {\n",
              "      display:flex;\n",
              "      gap: 12px;\n",
              "    }\n",
              "\n",
              "    .colab-df-convert {\n",
              "      background-color: #E8F0FE;\n",
              "      border: none;\n",
              "      border-radius: 50%;\n",
              "      cursor: pointer;\n",
              "      display: none;\n",
              "      fill: #1967D2;\n",
              "      height: 32px;\n",
              "      padding: 0 0 0 0;\n",
              "      width: 32px;\n",
              "    }\n",
              "\n",
              "    .colab-df-convert:hover {\n",
              "      background-color: #E2EBFA;\n",
              "      box-shadow: 0px 1px 2px rgba(60, 64, 67, 0.3), 0px 1px 3px 1px rgba(60, 64, 67, 0.15);\n",
              "      fill: #174EA6;\n",
              "    }\n",
              "\n",
              "    .colab-df-buttons div {\n",
              "      margin-bottom: 4px;\n",
              "    }\n",
              "\n",
              "    [theme=dark] .colab-df-convert {\n",
              "      background-color: #3B4455;\n",
              "      fill: #D2E3FC;\n",
              "    }\n",
              "\n",
              "    [theme=dark] .colab-df-convert:hover {\n",
              "      background-color: #434B5C;\n",
              "      box-shadow: 0px 1px 3px 1px rgba(0, 0, 0, 0.15);\n",
              "      filter: drop-shadow(0px 1px 2px rgba(0, 0, 0, 0.3));\n",
              "      fill: #FFFFFF;\n",
              "    }\n",
              "  </style>\n",
              "\n",
              "    <script>\n",
              "      const buttonEl =\n",
              "        document.querySelector('#df-711365fb-19c4-4e26-a5f7-e94c6cb65558 button.colab-df-convert');\n",
              "      buttonEl.style.display =\n",
              "        google.colab.kernel.accessAllowed ? 'block' : 'none';\n",
              "\n",
              "      async function convertToInteractive(key) {\n",
              "        const element = document.querySelector('#df-711365fb-19c4-4e26-a5f7-e94c6cb65558');\n",
              "        const dataTable =\n",
              "          await google.colab.kernel.invokeFunction('convertToInteractive',\n",
              "                                                    [key], {});\n",
              "        if (!dataTable) return;\n",
              "\n",
              "        const docLinkHtml = 'Like what you see? Visit the ' +\n",
              "          '<a target=\"_blank\" href=https://colab.research.google.com/notebooks/data_table.ipynb>data table notebook</a>'\n",
              "          + ' to learn more about interactive tables.';\n",
              "        element.innerHTML = '';\n",
              "        dataTable['output_type'] = 'display_data';\n",
              "        await google.colab.output.renderOutput(dataTable, element);\n",
              "        const docLink = document.createElement('div');\n",
              "        docLink.innerHTML = docLinkHtml;\n",
              "        element.appendChild(docLink);\n",
              "      }\n",
              "    </script>\n",
              "  </div>\n",
              "\n",
              "\n",
              "<div id=\"df-2e8d7aec-99cb-484c-9909-366233520805\">\n",
              "  <button class=\"colab-df-quickchart\" onclick=\"quickchart('df-2e8d7aec-99cb-484c-9909-366233520805')\"\n",
              "            title=\"Suggest charts\"\n",
              "            style=\"display:none;\">\n",
              "\n",
              "<svg xmlns=\"http://www.w3.org/2000/svg\" height=\"24px\"viewBox=\"0 0 24 24\"\n",
              "     width=\"24px\">\n",
              "    <g>\n",
              "        <path d=\"M19 3H5c-1.1 0-2 .9-2 2v14c0 1.1.9 2 2 2h14c1.1 0 2-.9 2-2V5c0-1.1-.9-2-2-2zM9 17H7v-7h2v7zm4 0h-2V7h2v10zm4 0h-2v-4h2v4z\"/>\n",
              "    </g>\n",
              "</svg>\n",
              "  </button>\n",
              "\n",
              "<style>\n",
              "  .colab-df-quickchart {\n",
              "      --bg-color: #E8F0FE;\n",
              "      --fill-color: #1967D2;\n",
              "      --hover-bg-color: #E2EBFA;\n",
              "      --hover-fill-color: #174EA6;\n",
              "      --disabled-fill-color: #AAA;\n",
              "      --disabled-bg-color: #DDD;\n",
              "  }\n",
              "\n",
              "  [theme=dark] .colab-df-quickchart {\n",
              "      --bg-color: #3B4455;\n",
              "      --fill-color: #D2E3FC;\n",
              "      --hover-bg-color: #434B5C;\n",
              "      --hover-fill-color: #FFFFFF;\n",
              "      --disabled-bg-color: #3B4455;\n",
              "      --disabled-fill-color: #666;\n",
              "  }\n",
              "\n",
              "  .colab-df-quickchart {\n",
              "    background-color: var(--bg-color);\n",
              "    border: none;\n",
              "    border-radius: 50%;\n",
              "    cursor: pointer;\n",
              "    display: none;\n",
              "    fill: var(--fill-color);\n",
              "    height: 32px;\n",
              "    padding: 0;\n",
              "    width: 32px;\n",
              "  }\n",
              "\n",
              "  .colab-df-quickchart:hover {\n",
              "    background-color: var(--hover-bg-color);\n",
              "    box-shadow: 0 1px 2px rgba(60, 64, 67, 0.3), 0 1px 3px 1px rgba(60, 64, 67, 0.15);\n",
              "    fill: var(--button-hover-fill-color);\n",
              "  }\n",
              "\n",
              "  .colab-df-quickchart-complete:disabled,\n",
              "  .colab-df-quickchart-complete:disabled:hover {\n",
              "    background-color: var(--disabled-bg-color);\n",
              "    fill: var(--disabled-fill-color);\n",
              "    box-shadow: none;\n",
              "  }\n",
              "\n",
              "  .colab-df-spinner {\n",
              "    border: 2px solid var(--fill-color);\n",
              "    border-color: transparent;\n",
              "    border-bottom-color: var(--fill-color);\n",
              "    animation:\n",
              "      spin 1s steps(1) infinite;\n",
              "  }\n",
              "\n",
              "  @keyframes spin {\n",
              "    0% {\n",
              "      border-color: transparent;\n",
              "      border-bottom-color: var(--fill-color);\n",
              "      border-left-color: var(--fill-color);\n",
              "    }\n",
              "    20% {\n",
              "      border-color: transparent;\n",
              "      border-left-color: var(--fill-color);\n",
              "      border-top-color: var(--fill-color);\n",
              "    }\n",
              "    30% {\n",
              "      border-color: transparent;\n",
              "      border-left-color: var(--fill-color);\n",
              "      border-top-color: var(--fill-color);\n",
              "      border-right-color: var(--fill-color);\n",
              "    }\n",
              "    40% {\n",
              "      border-color: transparent;\n",
              "      border-right-color: var(--fill-color);\n",
              "      border-top-color: var(--fill-color);\n",
              "    }\n",
              "    60% {\n",
              "      border-color: transparent;\n",
              "      border-right-color: var(--fill-color);\n",
              "    }\n",
              "    80% {\n",
              "      border-color: transparent;\n",
              "      border-right-color: var(--fill-color);\n",
              "      border-bottom-color: var(--fill-color);\n",
              "    }\n",
              "    90% {\n",
              "      border-color: transparent;\n",
              "      border-bottom-color: var(--fill-color);\n",
              "    }\n",
              "  }\n",
              "</style>\n",
              "\n",
              "  <script>\n",
              "    async function quickchart(key) {\n",
              "      const quickchartButtonEl =\n",
              "        document.querySelector('#' + key + ' button');\n",
              "      quickchartButtonEl.disabled = true;  // To prevent multiple clicks.\n",
              "      quickchartButtonEl.classList.add('colab-df-spinner');\n",
              "      try {\n",
              "        const charts = await google.colab.kernel.invokeFunction(\n",
              "            'suggestCharts', [key], {});\n",
              "      } catch (error) {\n",
              "        console.error('Error during call to suggestCharts:', error);\n",
              "      }\n",
              "      quickchartButtonEl.classList.remove('colab-df-spinner');\n",
              "      quickchartButtonEl.classList.add('colab-df-quickchart-complete');\n",
              "    }\n",
              "    (() => {\n",
              "      let quickchartButtonEl =\n",
              "        document.querySelector('#df-2e8d7aec-99cb-484c-9909-366233520805 button');\n",
              "      quickchartButtonEl.style.display =\n",
              "        google.colab.kernel.accessAllowed ? 'block' : 'none';\n",
              "    })();\n",
              "  </script>\n",
              "</div>\n",
              "\n",
              "    </div>\n",
              "  </div>\n"
            ]
          },
          "metadata": {},
          "execution_count": 3
        }
      ],
      "source": [
        "df = pd.read_csv(r\"MuhammadDaffaRudiyanto_animedataset.csv\")\n",
        "print(len(df))\n",
        "df.head()"
      ]
    },
    {
      "cell_type": "code",
      "execution_count": 4,
      "metadata": {
        "colab": {
          "base_uri": "https://localhost:8080/"
        },
        "id": "zYqnMZPFJQK5",
        "outputId": "11c42b91-04be-4e1f-9a14-aeddede6cfb5"
      },
      "outputs": [
        {
          "output_type": "stream",
          "name": "stdout",
          "text": [
            "Title           0\n",
            "Synopsis     4677\n",
            "Status          0\n",
            "Genres        128\n",
            "Type            0\n",
            "Studios     10693\n",
            "Members         0\n",
            "Reviewer     9186\n",
            "Ratings       542\n",
            "Score        9186\n",
            "dtype: int64\n",
            "Numbers of rows with at least one missing data: 13341\n"
          ]
        }
      ],
      "source": [
        "#Check number of missing value\n",
        "missing_values = df.isna().sum()\n",
        "rows_with_missing_value = df.isna().any(axis=1).sum()\n",
        "\n",
        "print(missing_values)\n",
        "print(\"Numbers of rows with at least one missing data:\", rows_with_missing_value)"
      ]
    },
    {
      "cell_type": "code",
      "execution_count": 5,
      "metadata": {
        "id": "B2ApMqduJQK5"
      },
      "outputs": [],
      "source": [
        "# rows_with_empty_values = df[df[['Studios', 'Score']].isna().all(axis=1)].shape[0]\n",
        "\n",
        "# print(\"Number of data points with empty values in all specified columns:\", rows_with_empty_values)"
      ]
    },
    {
      "cell_type": "code",
      "execution_count": 6,
      "metadata": {
        "colab": {
          "base_uri": "https://localhost:8080/",
          "height": 472
        },
        "id": "SNfDrEE-JQK5",
        "outputId": "99cf85f7-cf40-486f-8f3d-5d8c1ecfa01f"
      },
      "outputs": [
        {
          "output_type": "display_data",
          "data": {
            "text/plain": [
              "<Figure size 640x480 with 1 Axes>"
            ],
            "image/png": "[encoded data removed]"
          },
          "metadata": {}
        }
      ],
      "source": [
        "plt.hist(df['Score'], bins=10, edgecolor='black')\n",
        "plt.title('Histogram of Anime Scores')\n",
        "plt.xlabel('Score')\n",
        "plt.ylabel('Frequency')\n",
        "plt.ylim(0, 5000)\n",
        "plt.show()"
      ]
    },
    {
      "cell_type": "code",
      "execution_count": 7,
      "metadata": {
        "colab": {
          "base_uri": "https://localhost:8080/"
        },
        "id": "sXxE_muPJQK6",
        "outputId": "6504a70d-fd92-4140-b1c2-ef67c533fc89"
      },
      "outputs": [
        {
          "output_type": "stream",
          "name": "stdout",
          "text": [
            "8910\n"
          ]
        }
      ],
      "source": [
        "# Dropping rows with NaN values in specific columns\n",
        "df = df.dropna(subset=['Score', 'Synopsis', 'Genres', 'Ratings', 'Studios'])\n",
        "\n",
        "# Filtering out specific categories and values\n",
        "df = df[~df['Type'].isin(['Music', 'Special', 'Unknown']) &\n",
        "        (df['Ratings'] != \"Rx - Hentai\") &\n",
        "        ~df['Status'].isin([\"Currently Airing\", \"Not yet aired\"])]\n",
        "\n",
        "df['Members'] = df['Members'].astype(float)\n",
        "\n",
        "# df = df.drop(['Title', 'Status'], axis=1)\n",
        "bins = [0, 5, 7, float('inf')]  # Start bins from 0\n",
        "labels = [0, 1, 2]  # Labels for the bins\n",
        "df['bins_score'] = pd.cut(df['Score'], bins=bins, labels=labels, right=False)\n",
        "df['bins_score'] = df['bins_score'].astype(float)\n",
        "\n",
        "print(len(df))"
      ]
    },
    {
      "cell_type": "code",
      "execution_count": 8,
      "metadata": {
        "colab": {
          "base_uri": "https://localhost:8080/"
        },
        "id": "3IXZCAijJQK6",
        "outputId": "d6691800-c604-43d1-aaf9-534169dfc602"
      },
      "outputs": [
        {
          "output_type": "stream",
          "name": "stdout",
          "text": [
            "Title         0\n",
            "Synopsis      0\n",
            "Status        0\n",
            "Genres        0\n",
            "Type          0\n",
            "Studios       0\n",
            "Members       0\n",
            "Reviewer      0\n",
            "Ratings       0\n",
            "Score         0\n",
            "bins_score    0\n",
            "dtype: int64\n"
          ]
        }
      ],
      "source": [
        "missing_values = df.isna().sum()\n",
        "print(missing_values)"
      ]
    },
    {
      "cell_type": "code",
      "execution_count": 9,
      "metadata": {
        "colab": {
          "base_uri": "https://localhost:8080/",
          "height": 472
        },
        "id": "i03gCvI2JQK6",
        "outputId": "74fece01-5872-4c35-814d-3d2db7d0e031"
      },
      "outputs": [
        {
          "output_type": "display_data",
          "data": {
            "text/plain": [
              "<Figure size 640x480 with 1 Axes>"
            ],
            "image/png": "[encoded data removed]"
          },
          "metadata": {}
        }
      ],
      "source": [
        "plt.hist(df['Score'], bins=10, edgecolor='black')\n",
        "plt.title('Histogram of Anime Scores')\n",
        "plt.xlabel('Score')\n",
        "plt.ylabel('Frequency')\n",
        "plt.ylim(0, 5000)\n",
        "plt.show()"
      ]
    },
    {
      "cell_type": "code",
      "source": [
        "df = df.reset_index(drop=True)"
      ],
      "metadata": {
        "id": "rRRhXlqz_m_Q"
      },
      "execution_count": 10,
      "outputs": []
    },
    {
      "cell_type": "code",
      "source": [
        "df['bins_score'].value_counts()"
      ],
      "metadata": {
        "colab": {
          "base_uri": "https://localhost:8080/"
        },
        "id": "6rmwhyepiA_8",
        "outputId": "bd2a9cb1-9869-4c55-d86f-03619459378a"
      },
      "execution_count": 11,
      "outputs": [
        {
          "output_type": "execute_result",
          "data": {
            "text/plain": [
              "1.0    5095\n",
              "2.0    3579\n",
              "0.0     236\n",
              "Name: bins_score, dtype: int64"
            ]
          },
          "metadata": {},
          "execution_count": 11
        }
      ]
    },
    {
      "cell_type": "code",
      "execution_count": 12,
      "metadata": {
        "colab": {
          "base_uri": "https://localhost:8080/",
          "height": 379
        },
        "id": "SwEWPFGYJQK6",
        "outputId": "1f282d83-7460-44ce-9267-a601e47afafe"
      },
      "outputs": [
        {
          "output_type": "execute_result",
          "data": {
            "text/plain": [
              "                                               Title  \\\n",
              "0                                          Kiznaiver   \n",
              "1  Haikyuu!! Tokushuu! Haru-kou Volley ni Kaketa ...   \n",
              "2                                 Wagamama High Spec   \n",
              "3                             M3: Sono Kuroki Hagane   \n",
              "4                             Casshern: Robot Hunter   \n",
              "\n",
              "                                            Synopsis           Status  \\\n",
              "0  Katsuhira Agata is a quiet and reserved teenag...  Finished Airing   \n",
              "1  The OVA episode revisits the primary matches f...  Finished Airing   \n",
              "2  The adorable girls of Ousui Academy's student ...  Finished Airing   \n",
              "3  In a dark void known as the Lightless Realm, a...  Finished Airing   \n",
              "4  In the near future, robot technology has advan...  Finished Airing   \n",
              "\n",
              "                                              Genres Type  \\\n",
              "0                             Drama, Romance, Sci-Fi   TV   \n",
              "1               Sports, School, Team Sports, Shounen  OVA   \n",
              "2                                     Comedy, School   TV   \n",
              "3  Action, Drama, Mystery, Sci-Fi, Mecha, Psychol...   TV   \n",
              "4                           Adventure, Sci-Fi, Mecha  OVA   \n",
              "\n",
              "                Studios   Members  Reviewer                         Ratings  \\\n",
              "0               Trigger  730875.0  353836.0       PG-13 - Teens 13 or older   \n",
              "1        Production I.G   37726.0   11717.0       PG-13 - Teens 13 or older   \n",
              "2                 AXsiZ   33275.0   13785.0       PG-13 - Teens 13 or older   \n",
              "3        Satelight, C2C   56435.0   18694.0  R - 17+ (violence & profanity)   \n",
              "4  Tatsunoko Production    8766.0    3376.0       PG-13 - Teens 13 or older   \n",
              "\n",
              "   Score  bins_score  \n",
              "0   7.37         2.0  \n",
              "1   7.52         2.0  \n",
              "2   5.38         1.0  \n",
              "3   6.57         1.0  \n",
              "4   6.31         1.0  "
            ],
            "text/html": [
              "\n",
              "  <div id=\"df-dcf67963-4248-48d5-a51a-147e107a3ae3\" class=\"colab-df-container\">\n",
              "    <div>\n",
              "<style scoped>\n",
              "    .dataframe tbody tr th:only-of-type {\n",
              "        vertical-align: middle;\n",
              "    }\n",
              "\n",
              "    .dataframe tbody tr th {\n",
              "        vertical-align: top;\n",
              "    }\n",
              "\n",
              "    .dataframe thead th {\n",
              "        text-align: right;\n",
              "    }\n",
              "</style>\n",
              "<table border=\"1\" class=\"dataframe\">\n",
              "  <thead>\n",
              "    <tr style=\"text-align: right;\">\n",
              "      <th></th>\n",
              "      <th>Title</th>\n",
              "      <th>Synopsis</th>\n",
              "      <th>Status</th>\n",
              "      <th>Genres</th>\n",
              "      <th>Type</th>\n",
              "      <th>Studios</th>\n",
              "      <th>Members</th>\n",
              "      <th>Reviewer</th>\n",
              "      <th>Ratings</th>\n",
              "      <th>Score</th>\n",
              "      <th>bins_score</th>\n",
              "    </tr>\n",
              "  </thead>\n",
              "  <tbody>\n",
              "    <tr>\n",
              "      <th>0</th>\n",
              "      <td>Kiznaiver</td>\n",
              "      <td>Katsuhira Agata is a quiet and reserved teenag...</td>\n",
              "      <td>Finished Airing</td>\n",
              "      <td>Drama, Romance, Sci-Fi</td>\n",
              "      <td>TV</td>\n",
              "      <td>Trigger</td>\n",
              "      <td>730875.0</td>\n",
              "      <td>353836.0</td>\n",
              "      <td>PG-13 - Teens 13 or older</td>\n",
              "      <td>7.37</td>\n",
              "      <td>2.0</td>\n",
              "    </tr>\n",
              "    <tr>\n",
              "      <th>1</th>\n",
              "      <td>Haikyuu!! Tokushuu! Haru-kou Volley ni Kaketa ...</td>\n",
              "      <td>The OVA episode revisits the primary matches f...</td>\n",
              "      <td>Finished Airing</td>\n",
              "      <td>Sports, School, Team Sports, Shounen</td>\n",
              "      <td>OVA</td>\n",
              "      <td>Production I.G</td>\n",
              "      <td>37726.0</td>\n",
              "      <td>11717.0</td>\n",
              "      <td>PG-13 - Teens 13 or older</td>\n",
              "      <td>7.52</td>\n",
              "      <td>2.0</td>\n",
              "    </tr>\n",
              "    <tr>\n",
              "      <th>2</th>\n",
              "      <td>Wagamama High Spec</td>\n",
              "      <td>The adorable girls of Ousui Academy's student ...</td>\n",
              "      <td>Finished Airing</td>\n",
              "      <td>Comedy, School</td>\n",
              "      <td>TV</td>\n",
              "      <td>AXsiZ</td>\n",
              "      <td>33275.0</td>\n",
              "      <td>13785.0</td>\n",
              "      <td>PG-13 - Teens 13 or older</td>\n",
              "      <td>5.38</td>\n",
              "      <td>1.0</td>\n",
              "    </tr>\n",
              "    <tr>\n",
              "      <th>3</th>\n",
              "      <td>M3: Sono Kuroki Hagane</td>\n",
              "      <td>In a dark void known as the Lightless Realm, a...</td>\n",
              "      <td>Finished Airing</td>\n",
              "      <td>Action, Drama, Mystery, Sci-Fi, Mecha, Psychol...</td>\n",
              "      <td>TV</td>\n",
              "      <td>Satelight, C2C</td>\n",
              "      <td>56435.0</td>\n",
              "      <td>18694.0</td>\n",
              "      <td>R - 17+ (violence &amp; profanity)</td>\n",
              "      <td>6.57</td>\n",
              "      <td>1.0</td>\n",
              "    </tr>\n",
              "    <tr>\n",
              "      <th>4</th>\n",
              "      <td>Casshern: Robot Hunter</td>\n",
              "      <td>In the near future, robot technology has advan...</td>\n",
              "      <td>Finished Airing</td>\n",
              "      <td>Adventure, Sci-Fi, Mecha</td>\n",
              "      <td>OVA</td>\n",
              "      <td>Tatsunoko Production</td>\n",
              "      <td>8766.0</td>\n",
              "      <td>3376.0</td>\n",
              "      <td>PG-13 - Teens 13 or older</td>\n",
              "      <td>6.31</td>\n",
              "      <td>1.0</td>\n",
              "    </tr>\n",
              "  </tbody>\n",
              "</table>\n",
              "</div>\n",
              "    <div class=\"colab-df-buttons\">\n",
              "\n",
              "  <div class=\"colab-df-container\">\n",
              "    <button class=\"colab-df-convert\" onclick=\"convertToInteractive('df-dcf67963-4248-48d5-a51a-147e107a3ae3')\"\n",
              "            title=\"Convert this dataframe to an interactive table.\"\n",
              "            style=\"display:none;\">\n",
              "\n",
              "  <svg xmlns=\"http://www.w3.org/2000/svg\" height=\"24px\" viewBox=\"0 -960 960 960\">\n",
              "    <path d=\"M120-120v-720h720v720H120Zm60-500h600v-160H180v160Zm220 220h160v-160H400v160Zm0 220h160v-160H400v160ZM180-400h160v-160H180v160Zm440 0h160v-160H620v160ZM180-180h160v-160H180v160Zm440 0h160v-160H620v160Z\"/>\n",
              "  </svg>\n",
              "    </button>\n",
              "\n",
              "  <style>\n",
              "    .colab-df-container {\n",
              "      display:flex;\n",
              "      gap: 12px;\n",
              "    }\n",
              "\n",
              "    .colab-df-convert {\n",
              "      background-color: #E8F0FE;\n",
              "      border: none;\n",
              "      border-radius: 50%;\n",
              "      cursor: pointer;\n",
              "      display: none;\n",
              "      fill: #1967D2;\n",
              "      height: 32px;\n",
              "      padding: 0 0 0 0;\n",
              "      width: 32px;\n",
              "    }\n",
              "\n",
              "    .colab-df-convert:hover {\n",
              "      background-color: #E2EBFA;\n",
              "      box-shadow: 0px 1px 2px rgba(60, 64, 67, 0.3), 0px 1px 3px 1px rgba(60, 64, 67, 0.15);\n",
              "      fill: #174EA6;\n",
              "    }\n",
              "\n",
              "    .colab-df-buttons div {\n",
              "      margin-bottom: 4px;\n",
              "    }\n",
              "\n",
              "    [theme=dark] .colab-df-convert {\n",
              "      background-color: #3B4455;\n",
              "      fill: #D2E3FC;\n",
              "    }\n",
              "\n",
              "    [theme=dark] .colab-df-convert:hover {\n",
              "      background-color: #434B5C;\n",
              "      box-shadow: 0px 1px 3px 1px rgba(0, 0, 0, 0.15);\n",
              "      filter: drop-shadow(0px 1px 2px rgba(0, 0, 0, 0.3));\n",
              "      fill: #FFFFFF;\n",
              "    }\n",
              "  </style>\n",
              "\n",
              "    <script>\n",
              "      const buttonEl =\n",
              "        document.querySelector('#df-dcf67963-4248-48d5-a51a-147e107a3ae3 button.colab-df-convert');\n",
              "      buttonEl.style.display =\n",
              "        google.colab.kernel.accessAllowed ? 'block' : 'none';\n",
              "\n",
              "      async function convertToInteractive(key) {\n",
              "        const element = document.querySelector('#df-dcf67963-4248-48d5-a51a-147e107a3ae3');\n",
              "        const dataTable =\n",
              "          await google.colab.kernel.invokeFunction('convertToInteractive',\n",
              "                                                    [key], {});\n",
              "        if (!dataTable) return;\n",
              "\n",
              "        const docLinkHtml = 'Like what you see? Visit the ' +\n",
              "          '<a target=\"_blank\" href=https://colab.research.google.com/notebooks/data_table.ipynb>data table notebook</a>'\n",
              "          + ' to learn more about interactive tables.';\n",
              "        element.innerHTML = '';\n",
              "        dataTable['output_type'] = 'display_data';\n",
              "        await google.colab.output.renderOutput(dataTable, element);\n",
              "        const docLink = document.createElement('div');\n",
              "        docLink.innerHTML = docLinkHtml;\n",
              "        element.appendChild(docLink);\n",
              "      }\n",
              "    </script>\n",
              "  </div>\n",
              "\n",
              "\n",
              "<div id=\"df-712029f8-7019-478b-b0c6-e63343eea08a\">\n",
              "  <button class=\"colab-df-quickchart\" onclick=\"quickchart('df-712029f8-7019-478b-b0c6-e63343eea08a')\"\n",
              "            title=\"Suggest charts\"\n",
              "            style=\"display:none;\">\n",
              "\n",
              "<svg xmlns=\"http://www.w3.org/2000/svg\" height=\"24px\"viewBox=\"0 0 24 24\"\n",
              "     width=\"24px\">\n",
              "    <g>\n",
              "        <path d=\"M19 3H5c-1.1 0-2 .9-2 2v14c0 1.1.9 2 2 2h14c1.1 0 2-.9 2-2V5c0-1.1-.9-2-2-2zM9 17H7v-7h2v7zm4 0h-2V7h2v10zm4 0h-2v-4h2v4z\"/>\n",
              "    </g>\n",
              "</svg>\n",
              "  </button>\n",
              "\n",
              "<style>\n",
              "  .colab-df-quickchart {\n",
              "      --bg-color: #E8F0FE;\n",
              "      --fill-color: #1967D2;\n",
              "      --hover-bg-color: #E2EBFA;\n",
              "      --hover-fill-color: #174EA6;\n",
              "      --disabled-fill-color: #AAA;\n",
              "      --disabled-bg-color: #DDD;\n",
              "  }\n",
              "\n",
              "  [theme=dark] .colab-df-quickchart {\n",
              "      --bg-color: #3B4455;\n",
              "      --fill-color: #D2E3FC;\n",
              "      --hover-bg-color: #434B5C;\n",
              "      --hover-fill-color: #FFFFFF;\n",
              "      --disabled-bg-color: #3B4455;\n",
              "      --disabled-fill-color: #666;\n",
              "  }\n",
              "\n",
              "  .colab-df-quickchart {\n",
              "    background-color: var(--bg-color);\n",
              "    border: none;\n",
              "    border-radius: 50%;\n",
              "    cursor: pointer;\n",
              "    display: none;\n",
              "    fill: var(--fill-color);\n",
              "    height: 32px;\n",
              "    padding: 0;\n",
              "    width: 32px;\n",
              "  }\n",
              "\n",
              "  .colab-df-quickchart:hover {\n",
              "    background-color: var(--hover-bg-color);\n",
              "    box-shadow: 0 1px 2px rgba(60, 64, 67, 0.3), 0 1px 3px 1px rgba(60, 64, 67, 0.15);\n",
              "    fill: var(--button-hover-fill-color);\n",
              "  }\n",
              "\n",
              "  .colab-df-quickchart-complete:disabled,\n",
              "  .colab-df-quickchart-complete:disabled:hover {\n",
              "    background-color: var(--disabled-bg-color);\n",
              "    fill: var(--disabled-fill-color);\n",
              "    box-shadow: none;\n",
              "  }\n",
              "\n",
              "  .colab-df-spinner {\n",
              "    border: 2px solid var(--fill-color);\n",
              "    border-color: transparent;\n",
              "    border-bottom-color: var(--fill-color);\n",
              "    animation:\n",
              "      spin 1s steps(1) infinite;\n",
              "  }\n",
              "\n",
              "  @keyframes spin {\n",
              "    0% {\n",
              "      border-color: transparent;\n",
              "      border-bottom-color: var(--fill-color);\n",
              "      border-left-color: var(--fill-color);\n",
              "    }\n",
              "    20% {\n",
              "      border-color: transparent;\n",
              "      border-left-color: var(--fill-color);\n",
              "      border-top-color: var(--fill-color);\n",
              "    }\n",
              "    30% {\n",
              "      border-color: transparent;\n",
              "      border-left-color: var(--fill-color);\n",
              "      border-top-color: var(--fill-color);\n",
              "      border-right-color: var(--fill-color);\n",
              "    }\n",
              "    40% {\n",
              "      border-color: transparent;\n",
              "      border-right-color: var(--fill-color);\n",
              "      border-top-color: var(--fill-color);\n",
              "    }\n",
              "    60% {\n",
              "      border-color: transparent;\n",
              "      border-right-color: var(--fill-color);\n",
              "    }\n",
              "    80% {\n",
              "      border-color: transparent;\n",
              "      border-right-color: var(--fill-color);\n",
              "      border-bottom-color: var(--fill-color);\n",
              "    }\n",
              "    90% {\n",
              "      border-color: transparent;\n",
              "      border-bottom-color: var(--fill-color);\n",
              "    }\n",
              "  }\n",
              "</style>\n",
              "\n",
              "  <script>\n",
              "    async function quickchart(key) {\n",
              "      const quickchartButtonEl =\n",
              "        document.querySelector('#' + key + ' button');\n",
              "      quickchartButtonEl.disabled = true;  // To prevent multiple clicks.\n",
              "      quickchartButtonEl.classList.add('colab-df-spinner');\n",
              "      try {\n",
              "        const charts = await google.colab.kernel.invokeFunction(\n",
              "            'suggestCharts', [key], {});\n",
              "      } catch (error) {\n",
              "        console.error('Error during call to suggestCharts:', error);\n",
              "      }\n",
              "      quickchartButtonEl.classList.remove('colab-df-spinner');\n",
              "      quickchartButtonEl.classList.add('colab-df-quickchart-complete');\n",
              "    }\n",
              "    (() => {\n",
              "      let quickchartButtonEl =\n",
              "        document.querySelector('#df-712029f8-7019-478b-b0c6-e63343eea08a button');\n",
              "      quickchartButtonEl.style.display =\n",
              "        google.colab.kernel.accessAllowed ? 'block' : 'none';\n",
              "    })();\n",
              "  </script>\n",
              "</div>\n",
              "\n",
              "    </div>\n",
              "  </div>\n"
            ]
          },
          "metadata": {},
          "execution_count": 12
        }
      ],
      "source": [
        "df = df.sample(frac=1, random_state=SEED)\n",
        "df = df.reset_index(drop=True)\n",
        "df.head()"
      ]
    },
    {
      "cell_type": "markdown",
      "metadata": {
        "id": "Ruq1PM10JQK7"
      },
      "source": [
        "<h3>Machine Learning</h3>"
      ]
    },
    {
      "cell_type": "code",
      "execution_count": 13,
      "metadata": {
        "id": "E9aPjbThJQK7"
      },
      "outputs": [],
      "source": [
        "# Initialize TfidfVectorizer\n",
        "vectorizer = TfidfVectorizer(lowercase=True)\n",
        "\n",
        "# Transform Synopsis into a sparse matriax\n",
        "synopsis_list = vectorizer.fit_transform(df['Synopsis'])\n",
        "\n",
        "# Process Genres, Studios, Type, and Ratings\n",
        "# Convert them to sparse matrices after getting dummies\n",
        "genres_list = csr_matrix(df['Genres'].str.get_dummies(sep=', '))\n",
        "studios_list = csr_matrix(df['Studios'].str.get_dummies(sep=', '))\n",
        "type_encoded = csr_matrix(pd.get_dummies(df['Type'], prefix='Type')).astype('float32')\n",
        "ratings_encoded = csr_matrix(pd.get_dummies(df['Ratings'], prefix='Ratings')).astype('float32')\n",
        "\n",
        "# Combine everything into a single sparse matrix\n",
        "X = hstack([synopsis_list, genres_list, studios_list, type_encoded, ratings_encoded])\n",
        "\n",
        "# Target variable\n",
        "y = df['Score']"
      ]
    },
    {
      "cell_type": "code",
      "execution_count": 14,
      "metadata": {
        "id": "dktq5dRUJQK7"
      },
      "outputs": [],
      "source": [
        "X_train, X_test, y_train, y_test = train_test_split(X, y, train_size=0.8, random_state=SEED, stratify = df['bins_score'])\n",
        "# X_train, X_test, y_train, y_test = train_test_split(X, y, train_size=0.8, random_state=SEED)"
      ]
    },
    {
      "cell_type": "code",
      "execution_count": 15,
      "metadata": {
        "colab": {
          "base_uri": "https://localhost:8080/"
        },
        "id": "t4G_Ip26JQK7",
        "outputId": "5ba07292-1dbc-434b-f159-0b9d9213dd2e"
      },
      "outputs": [
        {
          "output_type": "stream",
          "name": "stdout",
          "text": [
            "[LibSVM]"
          ]
        }
      ],
      "source": [
        "ml_model = SVR(kernel='rbf', verbose=True)\n",
        "ml_model.fit(X_train, y_train)\n",
        "\n",
        "# Predictions\n",
        "predictions = ml_model.predict(X_test)"
      ]
    },
    {
      "cell_type": "code",
      "execution_count": 16,
      "metadata": {
        "colab": {
          "base_uri": "https://localhost:8080/"
        },
        "id": "nDhgQ2wNJQK7",
        "outputId": "1ebe9bb2-ccd8-47a1-dce9-13276cbdac1d"
      },
      "outputs": [
        {
          "output_type": "stream",
          "name": "stdout",
          "text": [
            "Mean Squared Error: 0.309\n",
            "Root Mean Squared Error: 0.556\n",
            "Mean Absolute Error: 0.418\n"
          ]
        }
      ],
      "source": [
        "# Mean Squared Error\n",
        "mse = mean_squared_error(y_test, predictions)\n",
        "print(\"Mean Squared Error: %.3f\" % mse)\n",
        "\n",
        "# Root Mean Squared Error\n",
        "rmse = np.sqrt(mse)\n",
        "print(\"Root Mean Squared Error: %.3f\" % rmse)\n",
        "\n",
        "mae = mean_absolute_error(y_test, predictions)\n",
        "print(\"Mean Absolute Error: %.3f\" % mae)\n"
      ]
    },
    {
      "cell_type": "markdown",
      "metadata": {
        "id": "gktqVxCVJQK7"
      },
      "source": [
        "<h3>Deep Learning Part 1: Fine-tuning BERT for Synopsis</h3>"
      ]
    },
    {
      "cell_type": "code",
      "execution_count": 17,
      "metadata": {
        "cellView": "form",
        "id": "4g1nT_E2JQK7"
      },
      "outputs": [],
      "source": [
        "# @title\n",
        "# # MAX_LEN = 200\n",
        "# MAX_LEN = 512\n",
        "# TRAIN_BATCH_SIZE = 8\n",
        "# VALID_BATCH_SIZE = 8\n",
        "# EPOCHS = 10\n",
        "# LEARNING_RATE = 1e-05\n",
        "# tokenizer = BertTokenizer.from_pretrained('bert-base-uncased',  do_lower_case=True)"
      ]
    },
    {
      "cell_type": "code",
      "execution_count": 18,
      "metadata": {
        "cellView": "form",
        "id": "2DPkNgWwJQK8"
      },
      "outputs": [],
      "source": [
        "# @title\n",
        "# class CustomDataset(Dataset):\n",
        "\n",
        "#     def __init__(self, dataframe, tokenizer, max_len):\n",
        "#         self.tokenizer = tokenizer\n",
        "#         self.data = dataframe\n",
        "#         self.Synopsis = dataframe.Synopsis\n",
        "#         self.targets = self.data.Score\n",
        "#         self.max_len = max_len\n",
        "\n",
        "#     def __len__(self):\n",
        "#         return len(self.Synopsis)\n",
        "\n",
        "#     def __getitem__(self, index):\n",
        "#         Synopsis = str(self.Synopsis[index])\n",
        "#         Synopsis = \" \".join(Synopsis.split())\n",
        "\n",
        "#         inputs = self.tokenizer.encode_plus(\n",
        "#             Synopsis,\n",
        "#             None,\n",
        "#             add_special_tokens=True,\n",
        "#             max_length=self.max_len,\n",
        "#             pad_to_max_length=True,\n",
        "#             return_token_type_ids=True\n",
        "#         )\n",
        "#         ids = inputs['input_ids']\n",
        "#         mask = inputs['attention_mask']\n",
        "#         token_type_ids = inputs[\"token_type_ids\"]\n",
        "\n",
        "\n",
        "#         return {\n",
        "#             'ids': torch.tensor(ids, dtype=torch.long),\n",
        "#             'mask': torch.tensor(mask, dtype=torch.long),\n",
        "#             'token_type_ids': torch.tensor(token_type_ids, dtype=torch.long),\n",
        "#             'targets': torch.tensor(self.targets[index], dtype=torch.float)\n",
        "#         }"
      ]
    },
    {
      "cell_type": "code",
      "execution_count": 19,
      "metadata": {
        "cellView": "form",
        "id": "r-RV8aSDJQK8"
      },
      "outputs": [],
      "source": [
        "# @title\n",
        "# new_df = df.loc[:, ['Synopsis', 'Score']]\n",
        "# new_df = new_df.reset_index(drop=True)"
      ]
    },
    {
      "cell_type": "code",
      "execution_count": 20,
      "metadata": {
        "cellView": "form",
        "id": "_z9PaDYNJQK8"
      },
      "outputs": [],
      "source": [
        "# @title\n",
        "# # Creating the dataset and dataloader for the neural network\n",
        "\n",
        "# # Define the size of the training set\n",
        "# train_size = 0.8\n",
        "\n",
        "# # Perform a stratified split to maintain the distribution of 'bins_score' in both sets\n",
        "# train_dataset, test_dataset = train_test_split(new_df, train_size=train_size, stratify=df['bins_score'], random_state=SEED)\n",
        "\n",
        "# # Reset index for both datasets\n",
        "# train_dataset = train_dataset.reset_index(drop=True)\n",
        "# test_dataset = test_dataset.reset_index(drop=True)\n",
        "\n",
        "\n",
        "# print(\"FULL Dataset: {}\".format(new_df.shape))\n",
        "# print(\"TRAIN Dataset: {}\".format(train_dataset.shape))\n",
        "# print(\"TEST Dataset: {}\".format(test_dataset.shape))\n",
        "\n",
        "# training_set = CustomDataset(train_dataset, tokenizer, MAX_LEN)\n",
        "# testing_set = CustomDataset(test_dataset, tokenizer, MAX_LEN)"
      ]
    },
    {
      "cell_type": "code",
      "execution_count": 21,
      "metadata": {
        "cellView": "form",
        "id": "utwq5DohJQK8"
      },
      "outputs": [],
      "source": [
        "# @title\n",
        "# train_params = {'batch_size': TRAIN_BATCH_SIZE,\n",
        "#                 'shuffle': True,\n",
        "#                 'num_workers': 0\n",
        "#                 }\n",
        "\n",
        "# test_params = {'batch_size': VALID_BATCH_SIZE,\n",
        "#                 'shuffle': True,\n",
        "#                 'num_workers': 0\n",
        "#                 }\n",
        "\n",
        "# training_loader = DataLoader(training_set, **train_params)\n",
        "# testing_loader = DataLoader(testing_set, **test_params)"
      ]
    },
    {
      "cell_type": "code",
      "execution_count": 22,
      "metadata": {
        "cellView": "form",
        "id": "tivD7EcLJQK8"
      },
      "outputs": [],
      "source": [
        "# @title\n",
        "# # Creating the customized model, by adding a drop out and a dense layer on top of distil bert to get the final output for the model.\n",
        "\n",
        "# class BERTClass(torch.nn.Module):\n",
        "#     def __init__(self):\n",
        "#         super(BERTClass, self).__init__()\n",
        "#         self.l1 = transformers.BertModel.from_pretrained('bert-base-uncased')\n",
        "#         self.l2 = torch.nn.Dropout(0.3)\n",
        "#         self.l3 = torch.nn.Linear(768, 1)  # Output a single continuous value\n",
        "\n",
        "#     def forward(self, ids, mask, token_type_ids):\n",
        "#         _, output_1= self.l1(ids, attention_mask=mask, token_type_ids=token_type_ids, return_dict=False)\n",
        "#         output_2 = self.l2(output_1)\n",
        "#         output = self.l3(output_2)\n",
        "#         return output\n",
        "\n",
        "# model = BERTClass()\n",
        "# model.to(device)"
      ]
    },
    {
      "cell_type": "code",
      "execution_count": 23,
      "metadata": {
        "cellView": "form",
        "id": "fETfpx-oJQK8"
      },
      "outputs": [],
      "source": [
        "# @title\n",
        "# def loss_fn(outputs, targets):\n",
        "#     return torch.nn.MSELoss()(outputs.view(-1), targets.view(-1))  # Mean Squared Error Loss\n",
        "# optimizer = torch.optim.Adam(params =  model.parameters(), lr=LEARNING_RATE)"
      ]
    },
    {
      "cell_type": "code",
      "execution_count": 24,
      "metadata": {
        "cellView": "form",
        "id": "6pkdVjaGJQK8"
      },
      "outputs": [],
      "source": [
        "# @title\n",
        "# def train(epoch):\n",
        "#     model.train()\n",
        "#     fin_targets_train = []\n",
        "#     fin_outputs_train = []\n",
        "#     for _, data in enumerate(training_loader, 0):\n",
        "#         ids = data['ids'].to(device, dtype=torch.long)\n",
        "#         mask = data['mask'].to(device, dtype=torch.long)\n",
        "#         token_type_ids = data['token_type_ids'].to(device, dtype=torch.long)\n",
        "#         targets = data['targets'].to(device, dtype=torch.float)\n",
        "\n",
        "#         outputs = model(ids, mask, token_type_ids)\n",
        "\n",
        "#         optimizer.zero_grad()\n",
        "#         loss = loss_fn(outputs, targets)\n",
        "\n",
        "#         fin_targets_train.extend(targets.cpu().detach().numpy().tolist())\n",
        "#         fin_outputs_train.extend(outputs.cpu().detach().numpy().tolist())\n",
        "\n",
        "#         if _ % 5000 == 0:\n",
        "#             print(f'Epoch: {epoch}, Loss:  {loss.item()}')\n",
        "\n",
        "#         loss.backward()\n",
        "#         optimizer.step()\n",
        "\n",
        "#     return fin_outputs_train, fin_targets_train\n",
        "\n",
        "# def validation(epoch):\n",
        "#     model.eval()\n",
        "#     fin_targets = []\n",
        "#     fin_outputs = []\n",
        "#     with torch.no_grad():\n",
        "#         for _, data in enumerate(testing_loader, 0):\n",
        "#             ids = data['ids'].to(device, dtype=torch.long)\n",
        "#             mask = data['mask'].to(device, dtype=torch.long)\n",
        "#             token_type_ids = data['token_type_ids'].to(device, dtype=torch.long)\n",
        "#             targets = data['targets'].to(device, dtype=torch.float)\n",
        "\n",
        "#             outputs = model(ids, mask, token_type_ids)\n",
        "#             fin_targets.extend(targets.cpu().detach().numpy().tolist())\n",
        "#             fin_outputs.extend(outputs.cpu().detach().numpy().tolist())\n",
        "\n",
        "#     return fin_outputs, fin_targets"
      ]
    },
    {
      "cell_type": "code",
      "execution_count": 25,
      "metadata": {
        "cellView": "form",
        "id": "cXA5_G_9JQK9"
      },
      "outputs": [],
      "source": [
        "# @title\n",
        "# # Main training and validation loop\n",
        "# for epoch in range(EPOCHS):\n",
        "#     outputs_train, targets_train = train(epoch)\n",
        "#     outputs_train = np.squeeze(outputs_train)  # Convert outputs to a 1D array\n",
        "\n",
        "#     # Calculate and print training metrics\n",
        "#     # mse_train = mean_squared_error(targets_train, outputs_train)\n",
        "#     mae_train = mean_absolute_error(targets_train, outputs_train)\n",
        "#     # print(f\"Epoch {epoch} - Training Mean Squared Error: {mse_train}\")\n",
        "#     print(f\"Epoch {epoch} - Training Mean Absolute Error: {mae_train}\")\n",
        "\n",
        "#     # Validate the model\n",
        "#     outputs, targets = validation(epoch)\n",
        "#     outputs = np.squeeze(outputs)  # Convert outputs to a 1D array for regression metrics\n",
        "\n",
        "#     # Calculate and print validation metrics\n",
        "#     # mse = mean_squared_error(targets, outputs)\n",
        "#     mae = mean_absolute_error(targets, outputs)\n",
        "#     # r2 = r2_score(targets, outputs)\n",
        "#     # print(f\"Epoch {epoch} - Validation Mean Squared Error: {mse}\")\n",
        "#     print(f\"Epoch {epoch} - Validation Mean Absolute Error: {mae}\")\n",
        "#     # print(f\"Epoch {epoch} - R-Squared: {r2}\")"
      ]
    },
    {
      "cell_type": "code",
      "execution_count": 26,
      "metadata": {
        "cellView": "form",
        "id": "KXGue_tFJQK9"
      },
      "outputs": [],
      "source": [
        "# @title\n",
        "# torch.save(model.state_dict(), 'fine_tuned_bert_model_3.pth')"
      ]
    },
    {
      "cell_type": "markdown",
      "metadata": {
        "id": "WVFMO8-3JQK9"
      },
      "source": [
        "<h3>Deep Learning Part 2.1: Extract Embeddings from Fine-tuned BERT Model</h3>"
      ]
    },
    {
      "cell_type": "code",
      "execution_count": 68,
      "metadata": {
        "id": "-1YEvb6wJQK9"
      },
      "outputs": [],
      "source": [
        "class BERTClass(torch.nn.Module):\n",
        "    def __init__(self):\n",
        "        super(BERTClass, self).__init__()\n",
        "        self.l1 = transformers.BertModel.from_pretrained('bert-base-uncased')\n",
        "        self.l2 = torch.nn.Dropout(0.3)\n",
        "        self.l3 = torch.nn.Linear(768, 1)\n",
        "\n",
        "    def forward(self, ids, mask, token_type_ids):\n",
        "        output = self.l1(ids, attention_mask=mask, token_type_ids=token_type_ids, return_dict=False)\n",
        "        pooled_output = output[1]  # This is the embedding\n",
        "        return pooled_output  # Return just the embedding\n",
        "\n"
      ]
    },
    {
      "cell_type": "code",
      "execution_count": 28,
      "metadata": {
        "id": "uwbN6ChVJQK9"
      },
      "outputs": [],
      "source": [
        "# # Load the model\n",
        "# bert_model = BERTClass()\n",
        "# bert_model.load_state_dict(torch.load('fine_tuned_bert_model_final_truncation.pth'))\n",
        "# bert_model.to(device)\n",
        "\n",
        "# # Set to evaluation mode for inference\n",
        "# bert_model.eval()"
      ]
    },
    {
      "cell_type": "code",
      "source": [
        "from google.colab import drive\n",
        "drive.mount('/content/drive')\n",
        "# Load the model\n",
        "bert_model = BERTClass()\n",
        "\n",
        "# Update this path to the location of your model in Google Drive\n",
        "model_path = '/content/drive/My Drive/fine_tuned_bert_model_final_truncation_freeze_nostratify.pth'\n",
        "\n",
        "bert_model.load_state_dict(torch.load(model_path))\n",
        "bert_model.to(device)\n",
        "\n",
        "# Set to evaluation mode for inference\n",
        "bert_model.eval()"
      ],
      "metadata": {
        "colab": {
          "base_uri": "https://localhost:8080/"
        },
        "id": "fEqKIOFfQ_g5",
        "outputId": "ce4ac283-b54b-4e47-da65-839716ec6477"
      },
      "execution_count": 69,
      "outputs": [
        {
          "output_type": "stream",
          "name": "stdout",
          "text": [
            "Drive already mounted at /content/drive; to attempt to forcibly remount, call drive.mount(\"/content/drive\", force_remount=True).\n"
          ]
        },
        {
          "output_type": "execute_result",
          "data": {
            "text/plain": [
              "BERTClass(\n",
              "  (l1): BertModel(\n",
              "    (embeddings): BertEmbeddings(\n",
              "      (word_embeddings): Embedding(30522, 768, padding_idx=0)\n",
              "      (position_embeddings): Embedding(512, 768)\n",
              "      (token_type_embeddings): Embedding(2, 768)\n",
              "      (LayerNorm): LayerNorm((768,), eps=1e-12, elementwise_affine=True)\n",
              "      (dropout): Dropout(p=0.1, inplace=False)\n",
              "    )\n",
              "    (encoder): BertEncoder(\n",
              "      (layer): ModuleList(\n",
              "        (0-11): 12 x BertLayer(\n",
              "          (attention): BertAttention(\n",
              "            (self): BertSelfAttention(\n",
              "              (query): Linear(in_features=768, out_features=768, bias=True)\n",
              "              (key): Linear(in_features=768, out_features=768, bias=True)\n",
              "              (value): Linear(in_features=768, out_features=768, bias=True)\n",
              "              (dropout): Dropout(p=0.1, inplace=False)\n",
              "            )\n",
              "            (output): BertSelfOutput(\n",
              "              (dense): Linear(in_features=768, out_features=768, bias=True)\n",
              "              (LayerNorm): LayerNorm((768,), eps=1e-12, elementwise_affine=True)\n",
              "              (dropout): Dropout(p=0.1, inplace=False)\n",
              "            )\n",
              "          )\n",
              "          (intermediate): BertIntermediate(\n",
              "            (dense): Linear(in_features=768, out_features=3072, bias=True)\n",
              "            (intermediate_act_fn): GELUActivation()\n",
              "          )\n",
              "          (output): BertOutput(\n",
              "            (dense): Linear(in_features=3072, out_features=768, bias=True)\n",
              "            (LayerNorm): LayerNorm((768,), eps=1e-12, elementwise_affine=True)\n",
              "            (dropout): Dropout(p=0.1, inplace=False)\n",
              "          )\n",
              "        )\n",
              "      )\n",
              "    )\n",
              "    (pooler): BertPooler(\n",
              "      (dense): Linear(in_features=768, out_features=768, bias=True)\n",
              "      (activation): Tanh()\n",
              "    )\n",
              "  )\n",
              "  (l2): Dropout(p=0.3, inplace=False)\n",
              "  (l3): Linear(in_features=768, out_features=1, bias=True)\n",
              ")"
            ]
          },
          "metadata": {},
          "execution_count": 69
        }
      ]
    },
    {
      "cell_type": "code",
      "execution_count": 70,
      "metadata": {
        "id": "7qZxsI5UJQK9"
      },
      "outputs": [],
      "source": [
        "def generate_bert_embeddings(data_loader, model):\n",
        "    model.eval()  # Make sure the model is in evaluation mode\n",
        "    embeddings = []\n",
        "    with torch.no_grad():\n",
        "        for _, data in enumerate(data_loader, 0):\n",
        "            ids = data['ids'].to(device, dtype=torch.long)\n",
        "            mask = data['mask'].to(device, dtype=torch.long)\n",
        "            token_type_ids = data['token_type_ids'].to(device, dtype=torch.long)\n",
        "\n",
        "            embedding = model(ids, mask, token_type_ids)\n",
        "            embeddings.append(embedding.cpu().numpy())\n",
        "\n",
        "    return np.vstack(embeddings)"
      ]
    },
    {
      "cell_type": "code",
      "execution_count": 71,
      "metadata": {
        "id": "ipSik0cmJQK9"
      },
      "outputs": [],
      "source": [
        "# Assuming 'df' is your DataFrame and it has a column named 'Synopsis'\n",
        "synopses = df['Synopsis'].tolist()  # Convert the column to a list\n",
        "\n",
        "# Initialize the BERT tokenizer\n",
        "tokenizer = BertTokenizer.from_pretrained('bert-base-uncased')\n"
      ]
    },
    {
      "cell_type": "code",
      "execution_count": 72,
      "metadata": {
        "id": "7I-aOgBDJQK-"
      },
      "outputs": [],
      "source": [
        "class SynopsesEmbeddingDataset(Dataset):\n",
        "    def __init__(self, synopses_series, tokenizer, max_len):\n",
        "        self.tokenizer = tokenizer\n",
        "        # self.data = dataframe\n",
        "        # self.Synopsis = dataframe.Synopsis\n",
        "        self.synopses = synopses_series\n",
        "        self.max_len = max_len\n",
        "\n",
        "    def __len__(self):\n",
        "        return len(self.synopses)\n",
        "\n",
        "    def __getitem__(self, index):\n",
        "        synopsis = str(self.synopses.iloc[index])\n",
        "        synopsis = \" \".join(synopsis.split())\n",
        "\n",
        "        inputs = self.tokenizer.encode_plus(\n",
        "            synopsis,\n",
        "            None,\n",
        "            add_special_tokens=True,\n",
        "            max_length=self.max_len,\n",
        "            pad_to_max_length=True,\n",
        "            return_attention_mask=True,\n",
        "            return_token_type_ids=True,\n",
        "            truncation = True\n",
        "        )\n",
        "        return {\n",
        "            'ids': torch.tensor(inputs['input_ids'], dtype=torch.long),\n",
        "            'mask': torch.tensor(inputs['attention_mask'], dtype=torch.long),\n",
        "            'token_type_ids': torch.tensor(inputs['token_type_ids'], dtype=torch.long)\n",
        "        }"
      ]
    },
    {
      "cell_type": "code",
      "execution_count": 73,
      "metadata": {
        "id": "eDmItBPgJQK-",
        "colab": {
          "base_uri": "https://localhost:8080/"
        },
        "outputId": "2845b491-0fb8-4ede-fdde-2fc61c32f6c6"
      },
      "outputs": [
        {
          "output_type": "stream",
          "name": "stderr",
          "text": [
            "/usr/local/lib/python3.10/dist-packages/transformers/tokenization_utils_base.py:2614: FutureWarning: The `pad_to_max_length` argument is deprecated and will be removed in a future version, use `padding=True` or `padding='longest'` to pad to the longest sequence in the batch, or use `padding='max_length'` to pad to a max length. In this case, you can give a specific length with `max_length` (e.g. `max_length=45`) or leave max_length to None to pad to the maximal input size of the model (e.g. 512 for Bert).\n",
            "  warnings.warn(\n"
          ]
        }
      ],
      "source": [
        "# Creating the dataset and dataloader\n",
        "synopses_dataset = SynopsesEmbeddingDataset(df['Synopsis'], tokenizer, max_len=512)\n",
        "synopses_data_loader = DataLoader(synopses_dataset, batch_size=32, shuffle=False)\n",
        "\n",
        "synopsis_embeddings = generate_bert_embeddings(synopses_data_loader, bert_model)"
      ]
    },
    {
      "cell_type": "markdown",
      "metadata": {
        "id": "53Qh1GEbJQK-"
      },
      "source": [
        "<h3>Deep Learning Part 2.2: Combine with other features (Genres, Studios, Rating, and Type)</h3>"
      ]
    },
    {
      "cell_type": "code",
      "execution_count": 74,
      "metadata": {
        "id": "mIwEvXLzJQK-"
      },
      "outputs": [],
      "source": [
        "# Your existing code for processing features\n",
        "genres_list_dl = df['Genres'].str.get_dummies(sep=', ')\n",
        "studios_list_dl = df['Studios'].str.get_dummies(sep=', ')\n",
        "type_encoded_dl = pd.get_dummies(df['Type'], prefix='Type')\n",
        "ratings_encoded_dl = pd.get_dummies(df['Ratings'], prefix='Ratings')\n",
        "\n",
        "other_features_df = pd.concat([genres_list_dl, studios_list_dl, type_encoded_dl, ratings_encoded_dl], axis=1)\n",
        "other_features = other_features_df.values.astype('float32')"
      ]
    },
    {
      "cell_type": "code",
      "execution_count": 75,
      "metadata": {
        "id": "ApP8xWOcJQK-"
      },
      "outputs": [],
      "source": [
        "combined_features = np.concatenate((synopsis_embeddings, other_features), axis=1)"
      ]
    },
    {
      "cell_type": "code",
      "execution_count": 76,
      "metadata": {
        "id": "On7ma64cJQLI"
      },
      "outputs": [],
      "source": [
        "X_dl = combined_features\n",
        "y_dl = df['Score'].values.astype('float32')"
      ]
    },
    {
      "cell_type": "code",
      "execution_count": 77,
      "metadata": {
        "id": "hQX9-AqFJQLI"
      },
      "outputs": [],
      "source": [
        "# X_train, X_test, y_train, y_test = train_test_split(X_dl, y_dl, train_size=0.8, random_state=SEED)\n",
        "X_train, X_test, y_train, y_test = train_test_split(X_dl, y_dl, train_size=0.8, random_state=SEED, stratify = df['bins_score'])"
      ]
    },
    {
      "cell_type": "code",
      "execution_count": 78,
      "metadata": {
        "id": "KwYm26V3JQLJ"
      },
      "outputs": [],
      "source": [
        "# Convert data to PyTorch tensors\n",
        "X_train_tensor = torch.tensor(X_train, dtype=torch.float32)\n",
        "y_train_tensor = torch.tensor(y_train, dtype=torch.float32)\n",
        "X_test_tensor = torch.tensor(X_test, dtype=torch.float32)\n",
        "y_test_tensor = torch.tensor(y_test, dtype=torch.float32)\n"
      ]
    },
    {
      "cell_type": "code",
      "execution_count": 79,
      "metadata": {
        "id": "oCtTxpInJQLJ"
      },
      "outputs": [],
      "source": [
        "# Creating datasets for DataLoader\n",
        "train_dataset = TensorDataset(X_train_tensor, y_train_tensor)\n",
        "test_dataset = TensorDataset(X_test_tensor, y_test_tensor)\n"
      ]
    },
    {
      "cell_type": "code",
      "execution_count": 80,
      "metadata": {
        "id": "8Q5cEkVBJQLJ"
      },
      "outputs": [],
      "source": [
        "# # Data Loaders\n",
        "# train_loader = DataLoader(dataset=train_dataset, batch_size=10, shuffle=True)\n",
        "# test_loader = DataLoader(dataset=test_dataset, batch_size=10, shuffle=False)\n",
        "\n",
        "def _init_fn(worker_id):\n",
        "    np.random.seed(int(SEED))\n",
        "\n",
        "train_loader = DataLoader(dataset=train_dataset, batch_size=10, shuffle=True, worker_init_fn=_init_fn)\n",
        "test_loader = DataLoader(dataset=test_dataset, batch_size=10, shuffle=False, worker_init_fn=_init_fn)"
      ]
    },
    {
      "cell_type": "code",
      "execution_count": 87,
      "metadata": {
        "id": "H4DMz6whJQLJ",
        "colab": {
          "base_uri": "https://localhost:8080/"
        },
        "outputId": "ae738cbd-8f77-47f5-bb93-7dc4182759bf"
      },
      "outputs": [
        {
          "output_type": "execute_result",
          "data": {
            "text/plain": [
              "RegressionModel(\n",
              "  (fc1): Linear(in_features=1621, out_features=64, bias=True)\n",
              "  (relu): ReLU()\n",
              "  (fc2): Linear(in_features=64, out_features=32, bias=True)\n",
              "  (fc3): Linear(in_features=32, out_features=1, bias=True)\n",
              ")"
            ]
          },
          "metadata": {},
          "execution_count": 87
        }
      ],
      "source": [
        "# Model definition\n",
        "seed_torch(4)\n",
        "class RegressionModel(nn.Module): # defines a new class RegressionModel which is a subclass of nn.Module, the base class for all neural network modules in PyTorch. This is a standard way to create a new neural network in PyTorch.\n",
        "    def __init__(self, input_size): # constructor method\n",
        "        super(RegressionModel, self).__init__() # initializes the superclass (nn.Module) from which RegressionModel is derived\n",
        "        self.fc1 = nn.Linear(input_size, 64) # a fully connected (linear) layer with input_size neurons as input and 64 neurons as output\n",
        "        self.relu = nn.ReLU() # a ReLU activation function to establish non-linearity to the model, which allows it to learn more complex relationships.\n",
        "        self.fc2 = nn.Linear(64, 32) # another fully connected layer that takes 64 inputs (the output of the previous layer) and outputs to 32 neurons\n",
        "        self.fc3 = nn.Linear(32, 1) # final fully connected layer takes 32 inputs and reduces it to a single output since this is a regression problem\n",
        "\n",
        "    def forward(self, x): #defines the forward pass of the network\n",
        "        x = self.relu(self.fc1(x)) # the input x is passed through the first linear layer (fc1) and then through the ReLU activation function. The result is then stored back in x.\n",
        "        x = self.relu(self.fc2(x)) # output of the previous step (now in x) is passed through the second linear layer (fc2) and again through the ReLU function.\n",
        "        x = self.fc3(x) # the output from the last step is passed through the third linear layer (fc3)\n",
        "        return x # returns the final output\n",
        "\n",
        "regression_model = RegressionModel(X_train.shape[1])\n",
        "regression_model.to(device)  # Move the model to the specified device\n"
      ]
    },
    {
      "cell_type": "code",
      "execution_count": 88,
      "metadata": {
        "id": "ive9UWTTJQLJ"
      },
      "outputs": [],
      "source": [
        "# Loss and optimizer\n",
        "criterion = nn.L1Loss()\n",
        "optimizer = optim.Adam(regression_model.parameters())"
      ]
    },
    {
      "cell_type": "code",
      "execution_count": 89,
      "metadata": {
        "id": "WlW7RxttJQLJ"
      },
      "outputs": [],
      "source": [
        "# Lists to store metrics\n",
        "training_mae_list = []\n",
        "validation_mae_list = []\n",
        "\n",
        "def train_regression(epoch):\n",
        "    regression_model.train()\n",
        "    fin_targets_train = []\n",
        "    fin_outputs_train = []\n",
        "    for i, data in enumerate(train_loader, 0):\n",
        "        X_batch, y_batch = data[0].to(device), data[1].to(device)\n",
        "\n",
        "        optimizer.zero_grad()\n",
        "        outputs = regression_model(X_batch)\n",
        "        loss = criterion(outputs, y_batch.view(-1, 1))\n",
        "        loss.backward()\n",
        "        optimizer.step()\n",
        "\n",
        "        fin_targets_train.extend(y_batch.cpu().detach().numpy().tolist())\n",
        "        fin_outputs_train.extend(outputs.cpu().detach().numpy().tolist())\n",
        "\n",
        "        if i % 5000 == 0:\n",
        "            print(f'Epoch: {epoch}, Loss:  {loss.item()}')\n",
        "\n",
        "    return fin_outputs_train, fin_targets_train\n",
        "\n",
        "def validation_regression(epoch):\n",
        "    regression_model.eval()\n",
        "    fin_targets = []\n",
        "    fin_outputs = []\n",
        "    with torch.no_grad():\n",
        "        for data in test_loader:\n",
        "            X_batch, y_batch = data[0].to(device), data[1].to(device)\n",
        "\n",
        "            outputs = regression_model(X_batch)\n",
        "            fin_targets.extend(y_batch.cpu().detach().numpy().tolist())\n",
        "            fin_outputs.extend(outputs.cpu().detach().numpy().tolist())\n",
        "\n",
        "    return fin_outputs, fin_targets\n"
      ]
    },
    {
      "cell_type": "code",
      "source": [
        "# Main training and validation loop\n",
        "for epoch in range(65):\n",
        "    outputs_train, targets_train = train_regression(epoch)\n",
        "    outputs_train = np.squeeze(outputs_train)  # Convert outputs to a 1D array for regression metrics\n",
        "    mae_train = mean_absolute_error(outputs_train, targets_train)\n",
        "    training_mae_list.append(mae_train)\n",
        "    # print(f'Epoch [{epoch+1}/100], Training Mean Absolute Error: {mae_train}')\n",
        "    print(f'Training Mean Absolute Error: {mae_train}')\n",
        "\n",
        "    # Validate the model\n",
        "    outputs, targets = validation_regression(epoch)\n",
        "    validation_mae = mean_absolute_error(outputs, targets)\n",
        "    validation_mae_list.append(validation_mae)\n",
        "    print(f'Validation Mean Absolute Error: {validation_mae}\\n')\n",
        "    outputs = np.squeeze(outputs)  # Convert outputs to a 1D array for regression metrics"
      ],
      "metadata": {
        "id": "wDOdkVnD9-uE",
        "colab": {
          "base_uri": "https://localhost:8080/"
        },
        "outputId": "5450c125-6054-4c8a-859f-00382dfe9880"
      },
      "execution_count": 90,
      "outputs": [
        {
          "output_type": "stream",
          "name": "stdout",
          "text": [
            "Epoch: 0, Loss:  6.565289497375488\n",
            "Training Mean Absolute Error: 0.43737488052275714\n",
            "Validation Mean Absolute Error: 0.29742597262599785\n",
            "\n",
            "Epoch: 1, Loss:  0.21372094750404358\n",
            "Training Mean Absolute Error: 0.31872444784668025\n",
            "Validation Mean Absolute Error: 0.28777331093746406\n",
            "\n",
            "Epoch: 2, Loss:  0.25187990069389343\n",
            "Training Mean Absolute Error: 0.30745961648379644\n",
            "Validation Mean Absolute Error: 0.4018505272506731\n",
            "\n",
            "Epoch: 3, Loss:  0.5839707255363464\n",
            "Training Mean Absolute Error: 0.306111118491785\n",
            "Validation Mean Absolute Error: 0.28743201728354134\n",
            "\n",
            "Epoch: 4, Loss:  0.2552731931209564\n",
            "Training Mean Absolute Error: 0.30361539648906416\n",
            "Validation Mean Absolute Error: 0.31226558704033713\n",
            "\n",
            "Epoch: 5, Loss:  0.3392186164855957\n",
            "Training Mean Absolute Error: 0.3002685133355234\n",
            "Validation Mean Absolute Error: 0.38341727722373475\n",
            "\n",
            "Epoch: 6, Loss:  0.3162743151187897\n",
            "Training Mean Absolute Error: 0.29862679276870424\n",
            "Validation Mean Absolute Error: 0.2862093649327956\n",
            "\n",
            "Epoch: 7, Loss:  0.1352922022342682\n",
            "Training Mean Absolute Error: 0.3027060109992354\n",
            "Validation Mean Absolute Error: 0.29660251954054057\n",
            "\n",
            "Epoch: 8, Loss:  0.5653933882713318\n",
            "Training Mean Absolute Error: 0.29113451925793077\n",
            "Validation Mean Absolute Error: 0.2848496479886416\n",
            "\n",
            "Epoch: 9, Loss:  0.38632240891456604\n",
            "Training Mean Absolute Error: 0.29779476517713166\n",
            "Validation Mean Absolute Error: 0.3070765425995678\n",
            "\n",
            "Epoch: 10, Loss:  0.3397420346736908\n",
            "Training Mean Absolute Error: 0.2930616162608636\n",
            "Validation Mean Absolute Error: 0.2847688053593491\n",
            "\n",
            "Epoch: 11, Loss:  0.1709698736667633\n",
            "Training Mean Absolute Error: 0.2921849709802739\n",
            "Validation Mean Absolute Error: 0.30480217264691317\n",
            "\n",
            "Epoch: 12, Loss:  0.42000117897987366\n",
            "Training Mean Absolute Error: 0.2954862768836027\n",
            "Validation Mean Absolute Error: 0.29284854181420256\n",
            "\n",
            "Epoch: 13, Loss:  0.27994099259376526\n",
            "Training Mean Absolute Error: 0.29569438536359804\n",
            "Validation Mean Absolute Error: 0.3306701693069253\n",
            "\n",
            "Epoch: 14, Loss:  0.3096323013305664\n",
            "Training Mean Absolute Error: 0.28845077881842485\n",
            "Validation Mean Absolute Error: 0.28317777596740207\n",
            "\n",
            "Epoch: 15, Loss:  0.128807932138443\n",
            "Training Mean Absolute Error: 0.2843873875610756\n",
            "Validation Mean Absolute Error: 0.28470479371705576\n",
            "\n",
            "Epoch: 16, Loss:  0.09891434013843536\n",
            "Training Mean Absolute Error: 0.29096835033861473\n",
            "Validation Mean Absolute Error: 0.3084279387085526\n",
            "\n",
            "Epoch: 17, Loss:  0.28712278604507446\n",
            "Training Mean Absolute Error: 0.2877205635194158\n",
            "Validation Mean Absolute Error: 0.2887505019955362\n",
            "\n",
            "Epoch: 18, Loss:  0.20762959122657776\n",
            "Training Mean Absolute Error: 0.28832954467680855\n",
            "Validation Mean Absolute Error: 0.29651742243740026\n",
            "\n",
            "Epoch: 19, Loss:  0.2712695598602295\n",
            "Training Mean Absolute Error: 0.28761274637664874\n",
            "Validation Mean Absolute Error: 0.29465124074591265\n",
            "\n",
            "Epoch: 20, Loss:  0.3917318284511566\n",
            "Training Mean Absolute Error: 0.2834327603062128\n",
            "Validation Mean Absolute Error: 0.2846589145970799\n",
            "\n",
            "Epoch: 21, Loss:  0.2424612045288086\n",
            "Training Mean Absolute Error: 0.28292997452345764\n",
            "Validation Mean Absolute Error: 0.28431118002911876\n",
            "\n",
            "Epoch: 22, Loss:  0.20090217888355255\n",
            "Training Mean Absolute Error: 0.28312376671701706\n",
            "Validation Mean Absolute Error: 0.2981514265775413\n",
            "\n",
            "Epoch: 23, Loss:  0.27873870730400085\n",
            "Training Mean Absolute Error: 0.28249821607044384\n",
            "Validation Mean Absolute Error: 0.28783189808880844\n",
            "\n",
            "Epoch: 24, Loss:  0.26355019211769104\n",
            "Training Mean Absolute Error: 0.28094145760993766\n",
            "Validation Mean Absolute Error: 0.2871730737011842\n",
            "\n",
            "Epoch: 25, Loss:  0.28436875343322754\n",
            "Training Mean Absolute Error: 0.27855817455167053\n",
            "Validation Mean Absolute Error: 0.30577497704395673\n",
            "\n",
            "Epoch: 26, Loss:  0.3351157605648041\n",
            "Training Mean Absolute Error: 0.2818344510531452\n",
            "Validation Mean Absolute Error: 0.2870074751401188\n",
            "\n",
            "Epoch: 27, Loss:  0.41938072443008423\n",
            "Training Mean Absolute Error: 0.2784550240311425\n",
            "Validation Mean Absolute Error: 0.28491151640578416\n",
            "\n",
            "Epoch: 28, Loss:  0.21541409194469452\n",
            "Training Mean Absolute Error: 0.2825723959239645\n",
            "Validation Mean Absolute Error: 0.3248460737007903\n",
            "\n",
            "Epoch: 29, Loss:  0.27114057540893555\n",
            "Training Mean Absolute Error: 0.2790123582990081\n",
            "Validation Mean Absolute Error: 0.29054313436501755\n",
            "\n",
            "Epoch: 30, Loss:  0.15335936844348907\n",
            "Training Mean Absolute Error: 0.2770269439042484\n",
            "Validation Mean Absolute Error: 0.30215305471259735\n",
            "\n",
            "Epoch: 31, Loss:  0.1914970874786377\n",
            "Training Mean Absolute Error: 0.28282715701294264\n",
            "Validation Mean Absolute Error: 0.31998930769469736\n",
            "\n",
            "Epoch: 32, Loss:  0.2937740385532379\n",
            "Training Mean Absolute Error: 0.2772676469266883\n",
            "Validation Mean Absolute Error: 0.29065536502769634\n",
            "\n",
            "Epoch: 33, Loss:  0.33071884512901306\n",
            "Training Mean Absolute Error: 0.27605632537877656\n",
            "Validation Mean Absolute Error: 0.2877790325819844\n",
            "\n",
            "Epoch: 34, Loss:  0.1420615166425705\n",
            "Training Mean Absolute Error: 0.2762236225049771\n",
            "Validation Mean Absolute Error: 0.28662256011791637\n",
            "\n",
            "Epoch: 35, Loss:  0.19111566245555878\n",
            "Training Mean Absolute Error: 0.2796225341582539\n",
            "Validation Mean Absolute Error: 0.2846429334612674\n",
            "\n",
            "Epoch: 36, Loss:  0.3388359248638153\n",
            "Training Mean Absolute Error: 0.2820252380621286\n",
            "Validation Mean Absolute Error: 0.29236143727093833\n",
            "\n",
            "Epoch: 37, Loss:  0.3047194480895996\n",
            "Training Mean Absolute Error: 0.2804443265753563\n",
            "Validation Mean Absolute Error: 0.28780582911772895\n",
            "\n",
            "Epoch: 38, Loss:  0.36153116822242737\n",
            "Training Mean Absolute Error: 0.2791672200299005\n",
            "Validation Mean Absolute Error: 0.3232686930366371\n",
            "\n",
            "Epoch: 39, Loss:  0.4472831189632416\n",
            "Training Mean Absolute Error: 0.2780824109125887\n",
            "Validation Mean Absolute Error: 0.29413197498128874\n",
            "\n",
            "Epoch: 40, Loss:  0.3575645983219147\n",
            "Training Mean Absolute Error: 0.27495296088734056\n",
            "Validation Mean Absolute Error: 0.30546775798069775\n",
            "\n",
            "Epoch: 41, Loss:  0.3426656723022461\n",
            "Training Mean Absolute Error: 0.2767846152002429\n",
            "Validation Mean Absolute Error: 0.2854393885191844\n",
            "\n",
            "Epoch: 42, Loss:  0.20803336799144745\n",
            "Training Mean Absolute Error: 0.27545182015558684\n",
            "Validation Mean Absolute Error: 0.28569593868405463\n",
            "\n",
            "Epoch: 43, Loss:  0.20992150902748108\n",
            "Training Mean Absolute Error: 0.2765642410744186\n",
            "Validation Mean Absolute Error: 0.30067188865541744\n",
            "\n",
            "Epoch: 44, Loss:  0.18502835929393768\n",
            "Training Mean Absolute Error: 0.2773346601746031\n",
            "Validation Mean Absolute Error: 0.29055923885769314\n",
            "\n",
            "Epoch: 45, Loss:  0.18313327431678772\n",
            "Training Mean Absolute Error: 0.2750776466797498\n",
            "Validation Mean Absolute Error: 0.3266613755028122\n",
            "\n",
            "Epoch: 46, Loss:  0.37748199701309204\n",
            "Training Mean Absolute Error: 0.27499464808155255\n",
            "Validation Mean Absolute Error: 0.30791114476393366\n",
            "\n",
            "Epoch: 47, Loss:  0.22239656746387482\n",
            "Training Mean Absolute Error: 0.27250395387444565\n",
            "Validation Mean Absolute Error: 0.28667853831174533\n",
            "\n",
            "Epoch: 48, Loss:  0.2203054428100586\n",
            "Training Mean Absolute Error: 0.2730991671282033\n",
            "Validation Mean Absolute Error: 0.32234158232289667\n",
            "\n",
            "Epoch: 49, Loss:  0.30282720923423767\n",
            "Training Mean Absolute Error: 0.2740326069387389\n",
            "Validation Mean Absolute Error: 0.2875904418804027\n",
            "\n",
            "Epoch: 50, Loss:  0.4544186294078827\n",
            "Training Mean Absolute Error: 0.2741577335780718\n",
            "Validation Mean Absolute Error: 0.2978554244260863\n",
            "\n",
            "Epoch: 51, Loss:  0.1557944267988205\n",
            "Training Mean Absolute Error: 0.2740843163429018\n",
            "Validation Mean Absolute Error: 0.29323255574261703\n",
            "\n",
            "Epoch: 52, Loss:  0.45881175994873047\n",
            "Training Mean Absolute Error: 0.2722666840728552\n",
            "Validation Mean Absolute Error: 0.28566659781266546\n",
            "\n",
            "Epoch: 53, Loss:  0.26953569054603577\n",
            "Training Mean Absolute Error: 0.2738140597186907\n",
            "Validation Mean Absolute Error: 0.2888651870851699\n",
            "\n",
            "Epoch: 54, Loss:  0.2697507441043854\n",
            "Training Mean Absolute Error: 0.27435620885037143\n",
            "Validation Mean Absolute Error: 0.2879628130348711\n",
            "\n",
            "Epoch: 55, Loss:  0.24926772713661194\n",
            "Training Mean Absolute Error: 0.2746550895850666\n",
            "Validation Mean Absolute Error: 0.3292459965287368\n",
            "\n",
            "Epoch: 56, Loss:  0.32846304774284363\n",
            "Training Mean Absolute Error: 0.27282283427538695\n",
            "Validation Mean Absolute Error: 0.28758055848037084\n",
            "\n",
            "Epoch: 57, Loss:  0.41297683119773865\n",
            "Training Mean Absolute Error: 0.2748751854220892\n",
            "Validation Mean Absolute Error: 0.28832887144870095\n",
            "\n",
            "Epoch: 58, Loss:  0.12814269959926605\n",
            "Training Mean Absolute Error: 0.2718519568945021\n",
            "Validation Mean Absolute Error: 0.2872983313570119\n",
            "\n",
            "Epoch: 59, Loss:  0.1592453569173813\n",
            "Training Mean Absolute Error: 0.27151773946922103\n",
            "Validation Mean Absolute Error: 0.2880110063670594\n",
            "\n",
            "Epoch: 60, Loss:  0.1783219426870346\n",
            "Training Mean Absolute Error: 0.27631214824656714\n",
            "Validation Mean Absolute Error: 0.3109374621634264\n",
            "\n",
            "Epoch: 61, Loss:  0.41543784737586975\n",
            "Training Mean Absolute Error: 0.274072085449725\n",
            "Validation Mean Absolute Error: 0.29416341894002074\n",
            "\n",
            "Epoch: 62, Loss:  0.32863280177116394\n",
            "Training Mean Absolute Error: 0.2711641159155286\n",
            "Validation Mean Absolute Error: 0.2877400476656913\n",
            "\n",
            "Epoch: 63, Loss:  0.1967751532793045\n",
            "Training Mean Absolute Error: 0.2723986073475494\n",
            "Validation Mean Absolute Error: 0.2897329897725355\n",
            "\n",
            "Epoch: 64, Loss:  0.31026750802993774\n",
            "Training Mean Absolute Error: 0.2724495125907305\n",
            "Validation Mean Absolute Error: 0.2902932985864504\n",
            "\n"
          ]
        }
      ]
    },
    {
      "cell_type": "code",
      "source": [
        "import matplotlib.pyplot as plt\n",
        "\n",
        "# Plotting the metrics\n",
        "plt.figure(figsize=(10, 5))\n",
        "plt.plot(training_mae_list, label='Training MAE')\n",
        "plt.plot(validation_mae_list, label='Validation MAE')\n",
        "plt.title('Training and Validation MAE per Epoch')\n",
        "plt.xlabel('Epochs')\n",
        "plt.ylabel('Mean Absolute Error')\n",
        "plt.ylim(0.2, 0.5)\n",
        "plt.legend()\n",
        "plt.show()"
      ],
      "metadata": {
        "id": "QLPdF2QX-lIJ",
        "colab": {
          "base_uri": "https://localhost:8080/",
          "height": 487
        },
        "outputId": "ec935b4e-3ea2-41cd-d28f-9e1c93a1dbc6"
      },
      "execution_count": 91,
      "outputs": [
        {
          "output_type": "display_data",
          "data": {
            "text/plain": [
              "<Figure size 1000x500 with 1 Axes>"
            ],
            "image/png": "[encoded data removed]"
          },
          "metadata": {}
        }
      ]
    },
    {
      "cell_type": "code",
      "execution_count": null,
      "metadata": {
        "cellView": "form",
        "id": "XYKi60zlJQLK"
      },
      "outputs": [],
      "source": [
        "# @title\n",
        "# # Training loop\n",
        "# for epoch in range(60):\n",
        "#     total_loss = 0\n",
        "#     fin_targets_train = []\n",
        "#     fin_outputs_train = []\n",
        "#     for i, data in enumerate(train_loader, 0):\n",
        "#         # Move data to device\n",
        "#         X_batch, y_batch = data[0].to(device), data[1].to(device)\n",
        "\n",
        "#         optimizer.zero_grad()\n",
        "#         outputs = regression_model(X_batch)\n",
        "#         loss = criterion(outputs, y_batch.view(-1, 1))\n",
        "#         loss.backward()\n",
        "#         optimizer.step()\n",
        "\n",
        "#         fin_targets_train.extend(y_batch.cpu().detach().numpy().tolist())\n",
        "#         fin_outputs_train.extend(outputs.cpu().detach().numpy().tolist())\n",
        "\n",
        "#     # Calculate and print training MAE\n",
        "#     mae_train = mean_absolute_error(fin_targets_train, fin_outputs_train)\n",
        "#     print(f'Epoch [{epoch+1}/100], Training Mean Absolute Error: {mae_train}')\n"
      ]
    },
    {
      "cell_type": "code",
      "execution_count": null,
      "metadata": {
        "cellView": "form",
        "id": "rkEpWJm1JQLK"
      },
      "outputs": [],
      "source": [
        "# @title\n",
        "# # Evaluation\n",
        "# regression_model.eval()\n",
        "# fin_targets = []\n",
        "# fin_outputs = []\n",
        "# with torch.no_grad():\n",
        "#     for data in test_loader:\n",
        "#         # Move data to device\n",
        "#         X_batch, y_batch = data[0].to(device), data[1].to(device)\n",
        "\n",
        "#         outputs = regression_model(X_batch)\n",
        "#         fin_targets.extend(y_batch.cpu().detach().numpy().tolist())\n",
        "#         fin_outputs.extend(outputs.cpu().detach().numpy().tolist())\n",
        "\n",
        "#     # Calculate and print validation MAE\n",
        "#     mae = mean_absolute_error(fin_targets, fin_outputs)\n",
        "#     print(f'Validation Mean Absolute Error: {mae}')"
      ]
    }
  ],
  "metadata": {
    "kernelspec": {
      "display_name": "Python 3",
      "name": "python3"
    },
    "language_info": {
      "codemirror_mode": {
        "name": "ipython",
        "version": 3
      },
      "file_extension": ".py",
      "mimetype": "text/x-python",
      "name": "python",
      "nbconvert_exporter": "python",
      "pygments_lexer": "ipython3",
      "version": "3.8.9"
    },
    "colab": {
      "provenance": [],
      "gpuType": "T4",
      "machine_shape": "hm"
    },
    "accelerator": "GPU"
  },
  "nbformat": 4,
  "nbformat_minor": 0
}